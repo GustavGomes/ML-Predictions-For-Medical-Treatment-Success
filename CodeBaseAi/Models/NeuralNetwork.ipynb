{
 "cells": [
  {
   "cell_type": "code",
   "execution_count": 1,
   "metadata": {},
   "outputs": [],
   "source": [
    "import pickle\n",
    "import pandas as pd\n",
    "import matplotlib.pyplot as plt\n",
    "from sklearn.metrics import classification_report\n",
    "from yellowbrick.classifier import ConfusionMatrix\n",
    "from sklearn.model_selection import GridSearchCV, KFold, train_test_split, cross_val_score\n",
    "from sklearn.neural_network import MLPClassifier\n",
    "from sklearn.metrics import accuracy_score, confusion_matrix, classification_report, precision_recall_fscore_support\n",
    "import numpy as np\n",
    "import scipy.stats as st\n",
    "from sklearn.preprocessing import MinMaxScaler"
   ]
  },
  {
   "attachments": {},
   "cell_type": "markdown",
   "metadata": {},
   "source": [
    "***Open with data***"
   ]
  },
  {
   "cell_type": "code",
   "execution_count": 2,
   "metadata": {},
   "outputs": [],
   "source": [
    "with open('../DataBases/CD4EncodedBase.pkl', 'rb') as f:\n",
    "    columns, Cd4AttributesTrainingBalanced, Cd4ClassResultsTrainingBalanced, Cd4AttributesTest, Cd4ClassResultsTest = pickle.load(f)\n",
    "with open('../Databases/VlEncodedBase.pkl', 'rb') as f:\n",
    "    columns, VlAttributesTrainingBalanced, VlClassResultsTrainingBalanced, VlAttributesTest, VlClassResultsTest = pickle.load(f)\n"
   ]
  },
  {
   "attachments": {},
   "cell_type": "markdown",
   "metadata": {},
   "source": [
    "***Normalize data for MLP***"
   ]
  },
  {
   "cell_type": "code",
   "execution_count": 3,
   "metadata": {},
   "outputs": [],
   "source": [
    "scaler = MinMaxScaler()\n",
    "\n",
    "scaler.fit(np.concatenate((Cd4AttributesTrainingBalanced, Cd4AttributesTest), axis=0))\n",
    "normalized_Cd4AttributesTrainingBalanced = scaler.transform(Cd4AttributesTrainingBalanced)\n",
    "normalized_Cd4AttributesTest = scaler.transform(Cd4AttributesTest)\n",
    "\n",
    "scaler.fit(np.concatenate((VlAttributesTrainingBalanced, VlAttributesTest), axis=0))\n",
    "normalized_VlAttributesTrainingBalanced = scaler.transform(VlAttributesTrainingBalanced)\n",
    "normalized_VlAttributesTest = scaler.transform(VlAttributesTest)"
   ]
  },
  {
   "attachments": {},
   "cell_type": "markdown",
   "metadata": {},
   "source": [
    "***GridSearch for MLP***"
   ]
  },
  {
   "cell_type": "code",
   "execution_count": 4,
   "metadata": {},
   "outputs": [],
   "source": [
    "params = {\n",
    "    'hidden_layer_sizes': [(100,), (50, 50), (30, 30, 30), (150,), (50,)],\n",
    "    'activation': ['relu', 'tanh', 'logistic', 'identity'],\n",
    "    'alpha': [0.0001, 0.001, 0.01],\n",
    "}"
   ]
  },
  {
   "attachments": {},
   "cell_type": "markdown",
   "metadata": {},
   "source": [
    "***Creating Grid***"
   ]
  },
  {
   "cell_type": "code",
   "execution_count": 5,
   "metadata": {},
   "outputs": [],
   "source": [
    "grid = GridSearchCV(\n",
    "    MLPClassifier(random_state=42),\n",
    "    param_grid=params,\n",
    "    cv=5,\n",
    "    verbose=1,\n",
    "    n_jobs=-1,\n",
    "    scoring='accuracy'\n",
    ")"
   ]
  },
  {
   "attachments": {},
   "cell_type": "markdown",
   "metadata": {},
   "source": [
    "***Run Grid***"
   ]
  },
  {
   "cell_type": "code",
   "execution_count": 6,
   "metadata": {},
   "outputs": [
    {
     "name": "stdout",
     "output_type": "stream",
     "text": [
      "Fitting 5 folds for each of 60 candidates, totalling 300 fits\n"
     ]
    },
    {
     "data": {
      "text/html": [
       "<style>#sk-container-id-1 {color: black;background-color: white;}#sk-container-id-1 pre{padding: 0;}#sk-container-id-1 div.sk-toggleable {background-color: white;}#sk-container-id-1 label.sk-toggleable__label {cursor: pointer;display: block;width: 100%;margin-bottom: 0;padding: 0.3em;box-sizing: border-box;text-align: center;}#sk-container-id-1 label.sk-toggleable__label-arrow:before {content: \"▸\";float: left;margin-right: 0.25em;color: #696969;}#sk-container-id-1 label.sk-toggleable__label-arrow:hover:before {color: black;}#sk-container-id-1 div.sk-estimator:hover label.sk-toggleable__label-arrow:before {color: black;}#sk-container-id-1 div.sk-toggleable__content {max-height: 0;max-width: 0;overflow: hidden;text-align: left;background-color: #f0f8ff;}#sk-container-id-1 div.sk-toggleable__content pre {margin: 0.2em;color: black;border-radius: 0.25em;background-color: #f0f8ff;}#sk-container-id-1 input.sk-toggleable__control:checked~div.sk-toggleable__content {max-height: 200px;max-width: 100%;overflow: auto;}#sk-container-id-1 input.sk-toggleable__control:checked~label.sk-toggleable__label-arrow:before {content: \"▾\";}#sk-container-id-1 div.sk-estimator input.sk-toggleable__control:checked~label.sk-toggleable__label {background-color: #d4ebff;}#sk-container-id-1 div.sk-label input.sk-toggleable__control:checked~label.sk-toggleable__label {background-color: #d4ebff;}#sk-container-id-1 input.sk-hidden--visually {border: 0;clip: rect(1px 1px 1px 1px);clip: rect(1px, 1px, 1px, 1px);height: 1px;margin: -1px;overflow: hidden;padding: 0;position: absolute;width: 1px;}#sk-container-id-1 div.sk-estimator {font-family: monospace;background-color: #f0f8ff;border: 1px dotted black;border-radius: 0.25em;box-sizing: border-box;margin-bottom: 0.5em;}#sk-container-id-1 div.sk-estimator:hover {background-color: #d4ebff;}#sk-container-id-1 div.sk-parallel-item::after {content: \"\";width: 100%;border-bottom: 1px solid gray;flex-grow: 1;}#sk-container-id-1 div.sk-label:hover label.sk-toggleable__label {background-color: #d4ebff;}#sk-container-id-1 div.sk-serial::before {content: \"\";position: absolute;border-left: 1px solid gray;box-sizing: border-box;top: 0;bottom: 0;left: 50%;z-index: 0;}#sk-container-id-1 div.sk-serial {display: flex;flex-direction: column;align-items: center;background-color: white;padding-right: 0.2em;padding-left: 0.2em;position: relative;}#sk-container-id-1 div.sk-item {position: relative;z-index: 1;}#sk-container-id-1 div.sk-parallel {display: flex;align-items: stretch;justify-content: center;background-color: white;position: relative;}#sk-container-id-1 div.sk-item::before, #sk-container-id-1 div.sk-parallel-item::before {content: \"\";position: absolute;border-left: 1px solid gray;box-sizing: border-box;top: 0;bottom: 0;left: 50%;z-index: -1;}#sk-container-id-1 div.sk-parallel-item {display: flex;flex-direction: column;z-index: 1;position: relative;background-color: white;}#sk-container-id-1 div.sk-parallel-item:first-child::after {align-self: flex-end;width: 50%;}#sk-container-id-1 div.sk-parallel-item:last-child::after {align-self: flex-start;width: 50%;}#sk-container-id-1 div.sk-parallel-item:only-child::after {width: 0;}#sk-container-id-1 div.sk-dashed-wrapped {border: 1px dashed gray;margin: 0 0.4em 0.5em 0.4em;box-sizing: border-box;padding-bottom: 0.4em;background-color: white;}#sk-container-id-1 div.sk-label label {font-family: monospace;font-weight: bold;display: inline-block;line-height: 1.2em;}#sk-container-id-1 div.sk-label-container {text-align: center;}#sk-container-id-1 div.sk-container {/* jupyter's `normalize.less` sets `[hidden] { display: none; }` but bootstrap.min.css set `[hidden] { display: none !important; }` so we also need the `!important` here to be able to override the default hidden behavior on the sphinx rendered scikit-learn.org. See: https://github.com/scikit-learn/scikit-learn/issues/21755 */display: inline-block !important;position: relative;}#sk-container-id-1 div.sk-text-repr-fallback {display: none;}</style><div id=\"sk-container-id-1\" class=\"sk-top-container\"><div class=\"sk-text-repr-fallback\"><pre>GridSearchCV(cv=5, estimator=MLPClassifier(random_state=42), n_jobs=-1,\n",
       "             param_grid={&#x27;activation&#x27;: [&#x27;relu&#x27;, &#x27;tanh&#x27;, &#x27;logistic&#x27;, &#x27;identity&#x27;],\n",
       "                         &#x27;alpha&#x27;: [0.0001, 0.001, 0.01],\n",
       "                         &#x27;hidden_layer_sizes&#x27;: [(100,), (50, 50), (30, 30, 30),\n",
       "                                                (150,), (50,)]},\n",
       "             scoring=&#x27;accuracy&#x27;, verbose=1)</pre><b>In a Jupyter environment, please rerun this cell to show the HTML representation or trust the notebook. <br />On GitHub, the HTML representation is unable to render, please try loading this page with nbviewer.org.</b></div><div class=\"sk-container\" hidden><div class=\"sk-item sk-dashed-wrapped\"><div class=\"sk-label-container\"><div class=\"sk-label sk-toggleable\"><input class=\"sk-toggleable__control sk-hidden--visually\" id=\"sk-estimator-id-1\" type=\"checkbox\" ><label for=\"sk-estimator-id-1\" class=\"sk-toggleable__label sk-toggleable__label-arrow\">GridSearchCV</label><div class=\"sk-toggleable__content\"><pre>GridSearchCV(cv=5, estimator=MLPClassifier(random_state=42), n_jobs=-1,\n",
       "             param_grid={&#x27;activation&#x27;: [&#x27;relu&#x27;, &#x27;tanh&#x27;, &#x27;logistic&#x27;, &#x27;identity&#x27;],\n",
       "                         &#x27;alpha&#x27;: [0.0001, 0.001, 0.01],\n",
       "                         &#x27;hidden_layer_sizes&#x27;: [(100,), (50, 50), (30, 30, 30),\n",
       "                                                (150,), (50,)]},\n",
       "             scoring=&#x27;accuracy&#x27;, verbose=1)</pre></div></div></div><div class=\"sk-parallel\"><div class=\"sk-parallel-item\"><div class=\"sk-item\"><div class=\"sk-label-container\"><div class=\"sk-label sk-toggleable\"><input class=\"sk-toggleable__control sk-hidden--visually\" id=\"sk-estimator-id-2\" type=\"checkbox\" ><label for=\"sk-estimator-id-2\" class=\"sk-toggleable__label sk-toggleable__label-arrow\">estimator: MLPClassifier</label><div class=\"sk-toggleable__content\"><pre>MLPClassifier(random_state=42)</pre></div></div></div><div class=\"sk-serial\"><div class=\"sk-item\"><div class=\"sk-estimator sk-toggleable\"><input class=\"sk-toggleable__control sk-hidden--visually\" id=\"sk-estimator-id-3\" type=\"checkbox\" ><label for=\"sk-estimator-id-3\" class=\"sk-toggleable__label sk-toggleable__label-arrow\">MLPClassifier</label><div class=\"sk-toggleable__content\"><pre>MLPClassifier(random_state=42)</pre></div></div></div></div></div></div></div></div></div></div>"
      ],
      "text/plain": [
       "GridSearchCV(cv=5, estimator=MLPClassifier(random_state=42), n_jobs=-1,\n",
       "             param_grid={'activation': ['relu', 'tanh', 'logistic', 'identity'],\n",
       "                         'alpha': [0.0001, 0.001, 0.01],\n",
       "                         'hidden_layer_sizes': [(100,), (50, 50), (30, 30, 30),\n",
       "                                                (150,), (50,)]},\n",
       "             scoring='accuracy', verbose=1)"
      ]
     },
     "execution_count": 6,
     "metadata": {},
     "output_type": "execute_result"
    }
   ],
   "source": [
    "grid.fit(normalized_Cd4AttributesTrainingBalanced, Cd4ClassResultsTrainingBalanced)"
   ]
  },
  {
   "cell_type": "code",
   "execution_count": 7,
   "metadata": {},
   "outputs": [
    {
     "name": "stdout",
     "output_type": "stream",
     "text": [
      "{'activation': 'relu', 'alpha': 0.001, 'hidden_layer_sizes': (150,)}\n",
      "0.7446643733098998\n"
     ]
    }
   ],
   "source": [
    "print(grid.best_params_)\n",
    "print(grid.best_score_)\n",
    "best_model = grid.best_estimator_\n",
    "best_params = grid.best_params_"
   ]
  },
  {
   "attachments": {},
   "cell_type": "markdown",
   "metadata": {},
   "source": [
    "***k-fold***"
   ]
  },
  {
   "cell_type": "code",
   "execution_count": 8,
   "metadata": {},
   "outputs": [
    {
     "name": "stderr",
     "output_type": "stream",
     "text": [
      "c:\\Users\\gusta\\AppData\\Local\\Programs\\Python\\Python310\\lib\\site-packages\\sklearn\\neural_network\\_multilayer_perceptron.py:684: ConvergenceWarning: Stochastic Optimizer: Maximum iterations (200) reached and the optimization hasn't converged yet.\n",
      "  warnings.warn(\n",
      "c:\\Users\\gusta\\AppData\\Local\\Programs\\Python\\Python310\\lib\\site-packages\\sklearn\\neural_network\\_multilayer_perceptron.py:684: ConvergenceWarning: Stochastic Optimizer: Maximum iterations (200) reached and the optimization hasn't converged yet.\n",
      "  warnings.warn(\n",
      "c:\\Users\\gusta\\AppData\\Local\\Programs\\Python\\Python310\\lib\\site-packages\\sklearn\\neural_network\\_multilayer_perceptron.py:684: ConvergenceWarning: Stochastic Optimizer: Maximum iterations (200) reached and the optimization hasn't converged yet.\n",
      "  warnings.warn(\n",
      "c:\\Users\\gusta\\AppData\\Local\\Programs\\Python\\Python310\\lib\\site-packages\\sklearn\\neural_network\\_multilayer_perceptron.py:684: ConvergenceWarning: Stochastic Optimizer: Maximum iterations (200) reached and the optimization hasn't converged yet.\n",
      "  warnings.warn(\n",
      "c:\\Users\\gusta\\AppData\\Local\\Programs\\Python\\Python310\\lib\\site-packages\\sklearn\\neural_network\\_multilayer_perceptron.py:684: ConvergenceWarning: Stochastic Optimizer: Maximum iterations (200) reached and the optimization hasn't converged yet.\n",
      "  warnings.warn(\n",
      "c:\\Users\\gusta\\AppData\\Local\\Programs\\Python\\Python310\\lib\\site-packages\\sklearn\\neural_network\\_multilayer_perceptron.py:684: ConvergenceWarning: Stochastic Optimizer: Maximum iterations (200) reached and the optimization hasn't converged yet.\n",
      "  warnings.warn(\n",
      "c:\\Users\\gusta\\AppData\\Local\\Programs\\Python\\Python310\\lib\\site-packages\\sklearn\\neural_network\\_multilayer_perceptron.py:684: ConvergenceWarning: Stochastic Optimizer: Maximum iterations (200) reached and the optimization hasn't converged yet.\n",
      "  warnings.warn(\n",
      "c:\\Users\\gusta\\AppData\\Local\\Programs\\Python\\Python310\\lib\\site-packages\\sklearn\\neural_network\\_multilayer_perceptron.py:684: ConvergenceWarning: Stochastic Optimizer: Maximum iterations (200) reached and the optimization hasn't converged yet.\n",
      "  warnings.warn(\n",
      "c:\\Users\\gusta\\AppData\\Local\\Programs\\Python\\Python310\\lib\\site-packages\\sklearn\\neural_network\\_multilayer_perceptron.py:684: ConvergenceWarning: Stochastic Optimizer: Maximum iterations (200) reached and the optimization hasn't converged yet.\n",
      "  warnings.warn(\n",
      "c:\\Users\\gusta\\AppData\\Local\\Programs\\Python\\Python310\\lib\\site-packages\\sklearn\\neural_network\\_multilayer_perceptron.py:684: ConvergenceWarning: Stochastic Optimizer: Maximum iterations (200) reached and the optimization hasn't converged yet.\n",
      "  warnings.warn(\n",
      "c:\\Users\\gusta\\AppData\\Local\\Programs\\Python\\Python310\\lib\\site-packages\\sklearn\\neural_network\\_multilayer_perceptron.py:684: ConvergenceWarning: Stochastic Optimizer: Maximum iterations (200) reached and the optimization hasn't converged yet.\n",
      "  warnings.warn(\n",
      "c:\\Users\\gusta\\AppData\\Local\\Programs\\Python\\Python310\\lib\\site-packages\\sklearn\\neural_network\\_multilayer_perceptron.py:684: ConvergenceWarning: Stochastic Optimizer: Maximum iterations (200) reached and the optimization hasn't converged yet.\n",
      "  warnings.warn(\n",
      "c:\\Users\\gusta\\AppData\\Local\\Programs\\Python\\Python310\\lib\\site-packages\\sklearn\\neural_network\\_multilayer_perceptron.py:684: ConvergenceWarning: Stochastic Optimizer: Maximum iterations (200) reached and the optimization hasn't converged yet.\n",
      "  warnings.warn(\n"
     ]
    },
    {
     "name": "stdout",
     "output_type": "stream",
     "text": [
      "Average Precision - Class 0: 0.67\n",
      "Average Precision - Class 1: 0.74\n",
      "---------------------------------------------------\n",
      "Average Recall - Class 0: 0.621\n",
      "Average Recall - Class 1: 0.78\n",
      "---------------------------------------------------\n",
      "Average F1 Score - Class 0: 0.643\n",
      "Average F1 Score - Class 1: 0.759\n",
      "---------------------------------------------------\n",
      "Average Accuracy: 0.714\n",
      "Best Model Accuracy: 0.7518796992481203\n"
     ]
    },
    {
     "name": "stderr",
     "output_type": "stream",
     "text": [
      "c:\\Users\\gusta\\AppData\\Local\\Programs\\Python\\Python310\\lib\\site-packages\\sklearn\\neural_network\\_multilayer_perceptron.py:684: ConvergenceWarning: Stochastic Optimizer: Maximum iterations (200) reached and the optimization hasn't converged yet.\n",
      "  warnings.warn(\n"
     ]
    }
   ],
   "source": [
    "import numpy as np\n",
    "from sklearn.model_selection import KFold\n",
    "from sklearn.metrics import accuracy_score, precision_recall_fscore_support\n",
    "from copy import deepcopy\n",
    "\n",
    "kf = KFold(n_splits=15, shuffle=True, random_state=42)\n",
    "best_accuracy = 0\n",
    "best_model_kfold = None\n",
    "\n",
    "# Create an empty list to store the metrics from each fold\n",
    "accuracy = []\n",
    "precision_scores_class_0 = []\n",
    "precision_scores_class_1 = []\n",
    "recall_scores_class_0 = []\n",
    "recall_scores_class_1 = []\n",
    "f1_scores_class_0 = []\n",
    "f1_scores_class_1 = []\n",
    "fold = 0\n",
    "\n",
    "# Perform k-fold cross-validation\n",
    "for train_index, val_index in kf.split(VlAttributesTrainingBalanced):\n",
    "    X_train, X_val = normalized_Cd4AttributesTrainingBalanced[train_index], normalized_Cd4AttributesTrainingBalanced[val_index]\n",
    "    y_train, y_val = Cd4ClassResultsTrainingBalanced[train_index], Cd4ClassResultsTrainingBalanced[val_index]\n",
    "\n",
    "    # Fit the model on the training data\n",
    "    best_model.fit(X_train, y_train)\n",
    "\n",
    "    # Predict the labels for the validation data\n",
    "    y_pred = best_model.predict(X_val)\n",
    "\n",
    "    # Store the precision, recall, and F-measure scores for each class\n",
    "    precision, recall, fscore, support = precision_recall_fscore_support(y_val, y_pred, average=None)\n",
    "    accuracy.append(accuracy_score(y_val, y_pred))\n",
    "    precision_scores_class_0.append(precision[0])\n",
    "    precision_scores_class_1.append(precision[1])\n",
    "    recall_scores_class_0.append(recall[0])\n",
    "    recall_scores_class_1.append(recall[1])\n",
    "    f1_scores_class_0.append(fscore[0])\n",
    "    f1_scores_class_1.append(fscore[1])\n",
    "\n",
    "    # Update the best model if a better accuracy is found\n",
    "    fold_accuracy = accuracy_score(y_val, y_pred)\n",
    "    if fold_accuracy > best_accuracy:\n",
    "        best_accuracy = fold_accuracy\n",
    "        best_model_kfold = deepcopy(best_model)\n",
    "\n",
    "    fold += 1\n",
    "\n",
    "precision_avg_class_0 = np.round(np.mean(precision_scores_class_0), 3)\n",
    "precision_avg_class_1 = np.round(np.mean(precision_scores_class_1), 3)\n",
    "recall_avg_class_0 = np.round(np.mean(recall_scores_class_0), 3)\n",
    "recall_avg_class_1 = np.round(np.mean(recall_scores_class_1), 3)\n",
    "f1_avg_class_0 = np.round(np.mean(f1_scores_class_0), 3)\n",
    "f1_avg_class_1 = np.round(np.mean(f1_scores_class_1), 3)\n",
    "accuracy_avg = np.round(np.mean(accuracy), 3)\n",
    "\n",
    "print(\"Average Precision - Class 0:\", precision_avg_class_0)\n",
    "print(\"Average Precision - Class 1:\", precision_avg_class_1)\n",
    "print(\"---------------------------------------------------\")\n",
    "print(\"Average Recall - Class 0:\", recall_avg_class_0)\n",
    "print(\"Average Recall - Class 1:\", recall_avg_class_1)\n",
    "print(\"---------------------------------------------------\")\n",
    "print(\"Average F1 Score - Class 0:\", f1_avg_class_0)\n",
    "print(\"Average F1 Score - Class 1:\", f1_avg_class_1)\n",
    "print(\"---------------------------------------------------\")\n",
    "print(\"Average Accuracy:\", accuracy_avg)\n",
    "print(\"Best Model Accuracy:\", best_accuracy)\n",
    "\n",
    "with open('../Results/Cd4Mlp.pkl', 'wb') as f:\n",
    "    pickle.dump([accuracy], f)\n"
   ]
  },
  {
   "attachments": {},
   "cell_type": "markdown",
   "metadata": {},
   "source": [
    "***confidence interval***"
   ]
  },
  {
   "cell_type": "code",
   "execution_count": 9,
   "metadata": {},
   "outputs": [
    {
     "name": "stdout",
     "output_type": "stream",
     "text": [
      "95% Confidence Interval - Precision - Class 0:\n",
      "(0.6411594153334768, 0.6996210606088304)\n",
      "---------------------------------------------------\n",
      "95% Confidence Interval - Precision - Class 1:\n",
      "(0.7191278201998227, 0.7612097325225927)\n",
      "---------------------------------------------------\n",
      "95% Confidence Interval - Recall - Class 0:\n",
      "(0.5888150521002944, 0.6525458606172103)\n",
      "---------------------------------------------------\n",
      "95% Confidence Interval - Recall - Class 1:\n",
      "(0.7613313216520508, 0.7980836841491294)\n",
      "---------------------------------------------------\n",
      "95% Confidence Interval - F1 Score - Class 0:\n",
      "(0.6170783660827979, 0.6697885769445624)\n",
      "---------------------------------------------------\n",
      "95% Confidence Interval - F1 Score - Class 1:\n",
      "(0.7432521340609036, 0.7743395720272414)\n",
      "---------------------------------------------------\n",
      "95% Confidence Interval - Accuracy:\n",
      "(0.6980157603811735, 0.7292618676511716)\n"
     ]
    }
   ],
   "source": [
    "#Function for calculating confidence interval from cross-validation\n",
    "def interval_confidence(values):\n",
    "    return st.t.interval(confidence=0.95, df=len(values)-1, loc=np.mean(values), scale=st.sem(values))\n",
    "    \n",
    "# Calculate confidence intervals for precision, recall, and F1 scores of each class\n",
    "precision_ci_class_0 = interval_confidence(np.array(precision_scores_class_0))\n",
    "precision_ci_class_1 = interval_confidence(np.array(precision_scores_class_1))\n",
    "recall_ci_class_0 = interval_confidence(np.array(recall_scores_class_0))\n",
    "recall_ci_class_1 = interval_confidence(np.array(recall_scores_class_1))\n",
    "fscore_ci_class_0 = interval_confidence(np.array(f1_scores_class_0))\n",
    "fscore_ci_class_1 = interval_confidence(np.array(f1_scores_class_1))\n",
    "accuracy_ci = interval_confidence(np.array(accuracy))\n",
    "\n",
    "# Print confidence intervals for each class\n",
    "print(\"95% Confidence Interval - Precision - Class 0:\")\n",
    "print(precision_ci_class_0)\n",
    "print(\"---------------------------------------------------\")\n",
    "print(\"95% Confidence Interval - Precision - Class 1:\")\n",
    "print(precision_ci_class_1)\n",
    "print(\"---------------------------------------------------\")\n",
    "print(\"95% Confidence Interval - Recall - Class 0:\")\n",
    "print(recall_ci_class_0)\n",
    "print(\"---------------------------------------------------\")\n",
    "print(\"95% Confidence Interval - Recall - Class 1:\")\n",
    "print(recall_ci_class_1)\n",
    "print(\"---------------------------------------------------\")\n",
    "print(\"95% Confidence Interval - F1 Score - Class 0:\")\n",
    "print(fscore_ci_class_0)\n",
    "print(\"---------------------------------------------------\")\n",
    "print(\"95% Confidence Interval - F1 Score - Class 1:\")\n",
    "print(fscore_ci_class_1)\n",
    "print(\"---------------------------------------------------\")\n",
    "print(\"95% Confidence Interval - Accuracy:\")\n",
    "print(accuracy_ci)\n"
   ]
  },
  {
   "attachments": {},
   "cell_type": "markdown",
   "metadata": {},
   "source": [
    "***Criando e executando a MLP***"
   ]
  },
  {
   "cell_type": "code",
   "execution_count": 10,
   "metadata": {},
   "outputs": [
    {
     "data": {
      "text/plain": [
       "0.7230193387398628"
      ]
     },
     "execution_count": 10,
     "metadata": {},
     "output_type": "execute_result"
    }
   ],
   "source": [
    "mlp = best_model\n",
    "model = mlp.fit(normalized_Cd4AttributesTrainingBalanced, Cd4ClassResultsTrainingBalanced)\n",
    "model.score(normalized_Cd4AttributesTest, Cd4ClassResultsTest)"
   ]
  },
  {
   "attachments": {},
   "cell_type": "markdown",
   "metadata": {},
   "source": [
    "***Analisando métricas da Random Forest criada***"
   ]
  },
  {
   "cell_type": "code",
   "execution_count": 11,
   "metadata": {},
   "outputs": [
    {
     "name": "stdout",
     "output_type": "stream",
     "text": [
      "              precision    recall  f1-score   support\n",
      "\n",
      "           0       0.67      0.66      0.66       667\n",
      "           1       0.76      0.77      0.76       936\n",
      "\n",
      "    accuracy                           0.72      1603\n",
      "   macro avg       0.71      0.71      0.71      1603\n",
      "weighted avg       0.72      0.72      0.72      1603\n",
      "\n"
     ]
    },
    {
     "name": "stderr",
     "output_type": "stream",
     "text": [
      "c:\\Users\\gusta\\AppData\\Local\\Programs\\Python\\Python310\\lib\\site-packages\\yellowbrick\\classifier\\base.py:232: YellowbrickWarning: could not determine class_counts_ from previously fitted classifier\n",
      "  warnings.warn(\n"
     ]
    },
    {
     "data": {
      "image/png": "[encoded data removed]",
      "text/plain": [
       "<Figure size 800x550 with 1 Axes>"
      ]
     },
     "metadata": {},
     "output_type": "display_data"
    }
   ],
   "source": [
    "from sklearn.metrics import confusion_matrix\n",
    "\n",
    "cm = ConfusionMatrix(model)\n",
    "cm.score(normalized_Cd4AttributesTest, Cd4ClassResultsTest)\n",
    "y_pred = model.predict(normalized_Cd4AttributesTest)\n",
    "report = classification_report(Cd4ClassResultsTest, y_pred)\n",
    "print(report)"
   ]
  }
 ],
 "metadata": {
  "kernelspec": {
   "display_name": "Python 3",
   "language": "python",
   "name": "python3"
  },
  "language_info": {
   "codemirror_mode": {
    "name": "ipython",
    "version": 3
   },
   "file_extension": ".py",
   "mimetype": "text/x-python",
   "name": "python",
   "nbconvert_exporter": "python",
   "pygments_lexer": "ipython3",
   "version": "3.10.6"
  },
  "orig_nbformat": 4,
  "vscode": {
   "interpreter": {
    "hash": "801167540cbb55ba35d945cc42145fb282b6ddc0e114fed7a26f8df16ed9f164"
   }
  }
 },
 "nbformat": 4,
 "nbformat_minor": 2
}
