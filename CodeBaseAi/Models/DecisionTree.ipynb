{
 "cells": [
  {
   "cell_type": "code",
   "execution_count": 1,
   "metadata": {},
   "outputs": [],
   "source": [
    "import pickle\n",
    "import pandas as pd\n",
    "from sklearn.ensemble import RandomForestClassifier\n",
    "import matplotlib.pyplot as plt\n",
    "from yellowbrick.classifier import ConfusionMatrix\n",
    "from sklearn.model_selection import GridSearchCV, KFold, train_test_split, cross_val_score\n",
    "from sklearn.tree import DecisionTreeClassifier\n",
    "from sklearn import metrics\n",
    "from sklearn.metrics import accuracy_score, confusion_matrix, classification_report, precision_recall_fscore_support\n",
    "import numpy as np\n",
    "import scipy.stats as st"
   ]
  },
  {
   "attachments": {},
   "cell_type": "markdown",
   "metadata": {},
   "source": [
    "***Open with data***"
   ]
  },
  {
   "cell_type": "code",
   "execution_count": 27,
   "metadata": {},
   "outputs": [],
   "source": [
    "with open('../DataBases/CD4EncodedBase.pkl', 'rb') as f:\n",
    "    columns, Cd4AttributesTrainingBalanced, Cd4ClassResultsTrainingBalanced, Cd4AttributesTest, Cd4ClassResultsTest = pickle.load(f)\n",
    "with open('../Databases/VlEncodedBase.pkl', 'rb') as f:\n",
    "    columns, VlAttributesTrainingBalanced, VlClassResultsTrainingBalanced, Vl4AttributesTest, VlClassResultsTest = pickle.load(f)\n"
   ]
  },
  {
   "attachments": {},
   "cell_type": "markdown",
   "metadata": {},
   "source": [
    "***GridSearch for Decision Tree***"
   ]
  },
  {
   "cell_type": "code",
   "execution_count": 28,
   "metadata": {},
   "outputs": [],
   "source": [
    "params = {\n",
    "    'max_depth': [5, 10, 20, 30, None],\n",
    "    'min_samples_split': [3, 5, 10, 20, 50, 100, 150, 180, 200],\n",
    "    'min_samples_leaf': [3, 5, 10, 20, 50, 100, 150],\n",
    "    'criterion': ['gini', 'entropy'],\n",
    "    'max_features': ['sqrt', None]\n",
    "}"
   ]
  },
  {
   "attachments": {},
   "cell_type": "markdown",
   "metadata": {},
   "source": [
    "***Creating Grid***"
   ]
  },
  {
   "cell_type": "code",
   "execution_count": 6,
   "metadata": {},
   "outputs": [],
   "source": [
    "grid = GridSearchCV(\n",
    "    DecisionTreeClassifier(),\n",
    "    param_grid=params,\n",
    "    cv=5,\n",
    "    verbose=1,\n",
    "    n_jobs=-1\n",
    ")"
   ]
  },
  {
   "attachments": {},
   "cell_type": "markdown",
   "metadata": {},
   "source": [
    "***Run Grid***"
   ]
  },
  {
   "cell_type": "code",
   "execution_count": 29,
   "metadata": {},
   "outputs": [
    {
     "name": "stdout",
     "output_type": "stream",
     "text": [
      "Fitting 5 folds for each of 1260 candidates, totalling 6300 fits\n"
     ]
    },
    {
     "data": {
      "text/html": [
       "<style>#sk-container-id-2 {color: black;background-color: white;}#sk-container-id-2 pre{padding: 0;}#sk-container-id-2 div.sk-toggleable {background-color: white;}#sk-container-id-2 label.sk-toggleable__label {cursor: pointer;display: block;width: 100%;margin-bottom: 0;padding: 0.3em;box-sizing: border-box;text-align: center;}#sk-container-id-2 label.sk-toggleable__label-arrow:before {content: \"▸\";float: left;margin-right: 0.25em;color: #696969;}#sk-container-id-2 label.sk-toggleable__label-arrow:hover:before {color: black;}#sk-container-id-2 div.sk-estimator:hover label.sk-toggleable__label-arrow:before {color: black;}#sk-container-id-2 div.sk-toggleable__content {max-height: 0;max-width: 0;overflow: hidden;text-align: left;background-color: #f0f8ff;}#sk-container-id-2 div.sk-toggleable__content pre {margin: 0.2em;color: black;border-radius: 0.25em;background-color: #f0f8ff;}#sk-container-id-2 input.sk-toggleable__control:checked~div.sk-toggleable__content {max-height: 200px;max-width: 100%;overflow: auto;}#sk-container-id-2 input.sk-toggleable__control:checked~label.sk-toggleable__label-arrow:before {content: \"▾\";}#sk-container-id-2 div.sk-estimator input.sk-toggleable__control:checked~label.sk-toggleable__label {background-color: #d4ebff;}#sk-container-id-2 div.sk-label input.sk-toggleable__control:checked~label.sk-toggleable__label {background-color: #d4ebff;}#sk-container-id-2 input.sk-hidden--visually {border: 0;clip: rect(1px 1px 1px 1px);clip: rect(1px, 1px, 1px, 1px);height: 1px;margin: -1px;overflow: hidden;padding: 0;position: absolute;width: 1px;}#sk-container-id-2 div.sk-estimator {font-family: monospace;background-color: #f0f8ff;border: 1px dotted black;border-radius: 0.25em;box-sizing: border-box;margin-bottom: 0.5em;}#sk-container-id-2 div.sk-estimator:hover {background-color: #d4ebff;}#sk-container-id-2 div.sk-parallel-item::after {content: \"\";width: 100%;border-bottom: 1px solid gray;flex-grow: 1;}#sk-container-id-2 div.sk-label:hover label.sk-toggleable__label {background-color: #d4ebff;}#sk-container-id-2 div.sk-serial::before {content: \"\";position: absolute;border-left: 1px solid gray;box-sizing: border-box;top: 0;bottom: 0;left: 50%;z-index: 0;}#sk-container-id-2 div.sk-serial {display: flex;flex-direction: column;align-items: center;background-color: white;padding-right: 0.2em;padding-left: 0.2em;position: relative;}#sk-container-id-2 div.sk-item {position: relative;z-index: 1;}#sk-container-id-2 div.sk-parallel {display: flex;align-items: stretch;justify-content: center;background-color: white;position: relative;}#sk-container-id-2 div.sk-item::before, #sk-container-id-2 div.sk-parallel-item::before {content: \"\";position: absolute;border-left: 1px solid gray;box-sizing: border-box;top: 0;bottom: 0;left: 50%;z-index: -1;}#sk-container-id-2 div.sk-parallel-item {display: flex;flex-direction: column;z-index: 1;position: relative;background-color: white;}#sk-container-id-2 div.sk-parallel-item:first-child::after {align-self: flex-end;width: 50%;}#sk-container-id-2 div.sk-parallel-item:last-child::after {align-self: flex-start;width: 50%;}#sk-container-id-2 div.sk-parallel-item:only-child::after {width: 0;}#sk-container-id-2 div.sk-dashed-wrapped {border: 1px dashed gray;margin: 0 0.4em 0.5em 0.4em;box-sizing: border-box;padding-bottom: 0.4em;background-color: white;}#sk-container-id-2 div.sk-label label {font-family: monospace;font-weight: bold;display: inline-block;line-height: 1.2em;}#sk-container-id-2 div.sk-label-container {text-align: center;}#sk-container-id-2 div.sk-container {/* jupyter's `normalize.less` sets `[hidden] { display: none; }` but bootstrap.min.css set `[hidden] { display: none !important; }` so we also need the `!important` here to be able to override the default hidden behavior on the sphinx rendered scikit-learn.org. See: https://github.com/scikit-learn/scikit-learn/issues/21755 */display: inline-block !important;position: relative;}#sk-container-id-2 div.sk-text-repr-fallback {display: none;}</style><div id=\"sk-container-id-2\" class=\"sk-top-container\"><div class=\"sk-text-repr-fallback\"><pre>GridSearchCV(cv=5, estimator=DecisionTreeClassifier(), n_jobs=-1,\n",
       "             param_grid={&#x27;criterion&#x27;: [&#x27;gini&#x27;, &#x27;entropy&#x27;],\n",
       "                         &#x27;max_depth&#x27;: [5, 10, 20, 30, None],\n",
       "                         &#x27;max_features&#x27;: [&#x27;sqrt&#x27;, None],\n",
       "                         &#x27;min_samples_leaf&#x27;: [3, 5, 10, 20, 50, 100, 150],\n",
       "                         &#x27;min_samples_split&#x27;: [3, 5, 10, 20, 50, 100, 150, 180,\n",
       "                                               200]},\n",
       "             verbose=1)</pre><b>In a Jupyter environment, please rerun this cell to show the HTML representation or trust the notebook. <br />On GitHub, the HTML representation is unable to render, please try loading this page with nbviewer.org.</b></div><div class=\"sk-container\" hidden><div class=\"sk-item sk-dashed-wrapped\"><div class=\"sk-label-container\"><div class=\"sk-label sk-toggleable\"><input class=\"sk-toggleable__control sk-hidden--visually\" id=\"sk-estimator-id-4\" type=\"checkbox\" ><label for=\"sk-estimator-id-4\" class=\"sk-toggleable__label sk-toggleable__label-arrow\">GridSearchCV</label><div class=\"sk-toggleable__content\"><pre>GridSearchCV(cv=5, estimator=DecisionTreeClassifier(), n_jobs=-1,\n",
       "             param_grid={&#x27;criterion&#x27;: [&#x27;gini&#x27;, &#x27;entropy&#x27;],\n",
       "                         &#x27;max_depth&#x27;: [5, 10, 20, 30, None],\n",
       "                         &#x27;max_features&#x27;: [&#x27;sqrt&#x27;, None],\n",
       "                         &#x27;min_samples_leaf&#x27;: [3, 5, 10, 20, 50, 100, 150],\n",
       "                         &#x27;min_samples_split&#x27;: [3, 5, 10, 20, 50, 100, 150, 180,\n",
       "                                               200]},\n",
       "             verbose=1)</pre></div></div></div><div class=\"sk-parallel\"><div class=\"sk-parallel-item\"><div class=\"sk-item\"><div class=\"sk-label-container\"><div class=\"sk-label sk-toggleable\"><input class=\"sk-toggleable__control sk-hidden--visually\" id=\"sk-estimator-id-5\" type=\"checkbox\" ><label for=\"sk-estimator-id-5\" class=\"sk-toggleable__label sk-toggleable__label-arrow\">estimator: DecisionTreeClassifier</label><div class=\"sk-toggleable__content\"><pre>DecisionTreeClassifier()</pre></div></div></div><div class=\"sk-serial\"><div class=\"sk-item\"><div class=\"sk-estimator sk-toggleable\"><input class=\"sk-toggleable__control sk-hidden--visually\" id=\"sk-estimator-id-6\" type=\"checkbox\" ><label for=\"sk-estimator-id-6\" class=\"sk-toggleable__label sk-toggleable__label-arrow\">DecisionTreeClassifier</label><div class=\"sk-toggleable__content\"><pre>DecisionTreeClassifier()</pre></div></div></div></div></div></div></div></div></div></div>"
      ],
      "text/plain": [
       "GridSearchCV(cv=5, estimator=DecisionTreeClassifier(), n_jobs=-1,\n",
       "             param_grid={'criterion': ['gini', 'entropy'],\n",
       "                         'max_depth': [5, 10, 20, 30, None],\n",
       "                         'max_features': ['sqrt', None],\n",
       "                         'min_samples_leaf': [3, 5, 10, 20, 50, 100, 150],\n",
       "                         'min_samples_split': [3, 5, 10, 20, 50, 100, 150, 180,\n",
       "                                               200]},\n",
       "             verbose=1)"
      ]
     },
     "execution_count": 29,
     "metadata": {},
     "output_type": "execute_result"
    }
   ],
   "source": [
    "\n",
    "grid.fit(Cd4AttributesTrainingBalanced, Cd4ClassResultsTrainingBalanced)"
   ]
  },
  {
   "cell_type": "code",
   "execution_count": 30,
   "metadata": {},
   "outputs": [
    {
     "name": "stdout",
     "output_type": "stream",
     "text": [
      "{'criterion': 'entropy', 'max_depth': 30, 'max_features': 'sqrt', 'min_samples_leaf': 5, 'min_samples_split': 200}\n",
      "0.7438640203758677\n"
     ]
    }
   ],
   "source": [
    "print(grid.best_params_)\n",
    "print(grid.best_score_)\n",
    "best_model = grid.best_estimator_\n",
    "best_params = grid.best_params_"
   ]
  },
  {
   "attachments": {},
   "cell_type": "markdown",
   "metadata": {},
   "source": [
    "***Perform k-fold cross-validation and evaluate best model***"
   ]
  },
  {
   "cell_type": "code",
   "execution_count": 36,
   "metadata": {},
   "outputs": [
    {
     "name": "stdout",
     "output_type": "stream",
     "text": [
      "Average Precision - Class 0: 0.657\n",
      "Average Precision - Class 1: 0.728\n",
      "---------------------------------------------------\n",
      "Average Recall - Class 0: 0.6\n",
      "Average Recall - Class 1: 0.772\n",
      "---------------------------------------------------\n",
      "Average F1 Score - Class 0: 0.625\n",
      "Average F1 Score - Class 1: 0.748\n",
      "---------------------------------------------------\n",
      "Average Accuracy: 0.7\n",
      "Best Model Accuracy: 0.7518796992481203\n"
     ]
    }
   ],
   "source": [
    "import numpy as np\n",
    "from sklearn.model_selection import KFold\n",
    "from sklearn.metrics import accuracy_score, precision_recall_fscore_support\n",
    "from copy import deepcopy\n",
    "\n",
    "kf = KFold(n_splits=15, shuffle=True, random_state=42)\n",
    "best_accuracy = 0\n",
    "best_model_kfold = None\n",
    "\n",
    "# Create an empty list to store the metrics from each fold\n",
    "accuracy = []\n",
    "precision_scores_class_0 = []\n",
    "precision_scores_class_1 = []\n",
    "recall_scores_class_0 = []\n",
    "recall_scores_class_1 = []\n",
    "f1_scores_class_0 = []\n",
    "f1_scores_class_1 = []\n",
    "fold = 0\n",
    "\n",
    "# Perform k-fold cross-validation\n",
    "for train_index, val_index in kf.split(VlAttributesTrainingBalanced):\n",
    "    X_train, X_val = Cd4AttributesTrainingBalanced[train_index], Cd4AttributesTrainingBalanced[val_index]\n",
    "    y_train, y_val = Cd4ClassResultsTrainingBalanced[train_index], Cd4ClassResultsTrainingBalanced[val_index]\n",
    "\n",
    "    # Fit the model on the training data\n",
    "    best_model.fit(X_train, y_train)\n",
    "\n",
    "    # Predict the labels for the validation data\n",
    "    y_pred = best_model.predict(X_val)\n",
    "\n",
    "    # Store the precision, recall, and F-measure scores for each class\n",
    "    precision, recall, fscore, support = precision_recall_fscore_support(y_val, y_pred, average=None)\n",
    "    accuracy.append(accuracy_score(y_val, y_pred))\n",
    "    precision_scores_class_0.append(precision[0])\n",
    "    precision_scores_class_1.append(precision[1])\n",
    "    recall_scores_class_0.append(recall[0])\n",
    "    recall_scores_class_1.append(recall[1])\n",
    "    f1_scores_class_0.append(fscore[0])\n",
    "    f1_scores_class_1.append(fscore[1])\n",
    "\n",
    "    # Update the best model if a better accuracy is found\n",
    "    fold_accuracy = accuracy_score(y_val, y_pred)\n",
    "    if fold_accuracy > best_accuracy:\n",
    "        best_accuracy = fold_accuracy\n",
    "        best_model_kfold = deepcopy(best_model)\n",
    "\n",
    "    fold += 1\n",
    "\n",
    "precision_avg_class_0 = np.round(np.mean(precision_scores_class_0), 3)\n",
    "precision_avg_class_1 = np.round(np.mean(precision_scores_class_1), 3)\n",
    "recall_avg_class_0 = np.round(np.mean(recall_scores_class_0), 3)\n",
    "recall_avg_class_1 = np.round(np.mean(recall_scores_class_1), 3)\n",
    "f1_avg_class_0 = np.round(np.mean(f1_scores_class_0), 3)\n",
    "f1_avg_class_1 = np.round(np.mean(f1_scores_class_1), 3)\n",
    "accuracy_avg = np.round(np.mean(accuracy), 3)\n",
    "\n",
    "print(\"Average Precision - Class 0:\", precision_avg_class_0)\n",
    "print(\"Average Precision - Class 1:\", precision_avg_class_1)\n",
    "print(\"---------------------------------------------------\")\n",
    "print(\"Average Recall - Class 0:\", recall_avg_class_0)\n",
    "print(\"Average Recall - Class 1:\", recall_avg_class_1)\n",
    "print(\"---------------------------------------------------\")\n",
    "print(\"Average F1 Score - Class 0:\", f1_avg_class_0)\n",
    "print(\"Average F1 Score - Class 1:\", f1_avg_class_1)\n",
    "print(\"---------------------------------------------------\")\n",
    "print(\"Average Accuracy:\", accuracy_avg)\n",
    "print(\"Best Model Accuracy:\", best_accuracy)\n"
   ]
  },
  {
   "attachments": {},
   "cell_type": "markdown",
   "metadata": {},
   "source": [
    "***Executing Decision Tree***"
   ]
  },
  {
   "cell_type": "code",
   "execution_count": 37,
   "metadata": {},
   "outputs": [
    {
     "data": {
      "text/plain": [
       "0.7092950717404866"
      ]
     },
     "execution_count": 37,
     "metadata": {},
     "output_type": "execute_result"
    }
   ],
   "source": [
    "dtc = best_model\n",
    "model = dtc.fit(Cd4AttributesTrainingBalanced, Cd4ClassResultsTrainingBalanced)\n",
    "dtc.score(Cd4AttributesTest, Cd4ClassResultsTest)"
   ]
  },
  {
   "attachments": {},
   "cell_type": "markdown",
   "metadata": {},
   "source": [
    "***Confidence Interval***"
   ]
  },
  {
   "cell_type": "code",
   "execution_count": 38,
   "metadata": {},
   "outputs": [
    {
     "name": "stdout",
     "output_type": "stream",
     "text": [
      "95% Confidence Interval - Precision - Class 0:\n",
      "(0.620728066734512, 0.6941105044426094)\n",
      "---------------------------------------------------\n",
      "95% Confidence Interval - Precision - Class 1:\n",
      "(0.7088209046666613, 0.7464928219424468)\n",
      "---------------------------------------------------\n",
      "95% Confidence Interval - Recall - Class 0:\n",
      "(0.5704647786455982, 0.6296873745704211)\n",
      "---------------------------------------------------\n",
      "95% Confidence Interval - Recall - Class 1:\n",
      "(0.7441849780336288, 0.8001709572001018)\n",
      "---------------------------------------------------\n",
      "95% Confidence Interval - F1 Score - Class 0:\n",
      "(0.5997214986342368, 0.6505252318303408)\n",
      "---------------------------------------------------\n",
      "95% Confidence Interval - F1 Score - Class 1:\n",
      "(0.7315072542801929, 0.7647694165868423)\n",
      "---------------------------------------------------\n",
      "95% Confidence Interval - Accuracy:\n",
      "(0.6841623754551915, 0.7160400173191972)\n"
     ]
    }
   ],
   "source": [
    "#Function for calculating confidence interval from cross-validation\n",
    "def interval_confidence(values):\n",
    "    return st.t.interval(confidence=0.95, df=len(values)-1, loc=np.mean(values), scale=st.sem(values))\n",
    "    \n",
    "# Calculate confidence intervals for precision, recall, and F1 scores of each class\n",
    "precision_ci_class_0 = interval_confidence(np.array(precision_scores_class_0))\n",
    "precision_ci_class_1 = interval_confidence(np.array(precision_scores_class_1))\n",
    "recall_ci_class_0 = interval_confidence(np.array(recall_scores_class_0))\n",
    "recall_ci_class_1 = interval_confidence(np.array(recall_scores_class_1))\n",
    "fscore_ci_class_0 = interval_confidence(np.array(f1_scores_class_0))\n",
    "fscore_ci_class_1 = interval_confidence(np.array(f1_scores_class_1))\n",
    "accuracy_ci = interval_confidence(np.array(accuracy))\n",
    "\n",
    "# Print confidence intervals for each class\n",
    "print(\"95% Confidence Interval - Precision - Class 0:\")\n",
    "print(precision_ci_class_0)\n",
    "print(\"---------------------------------------------------\")\n",
    "print(\"95% Confidence Interval - Precision - Class 1:\")\n",
    "print(precision_ci_class_1)\n",
    "print(\"---------------------------------------------------\")\n",
    "print(\"95% Confidence Interval - Recall - Class 0:\")\n",
    "print(recall_ci_class_0)\n",
    "print(\"---------------------------------------------------\")\n",
    "print(\"95% Confidence Interval - Recall - Class 1:\")\n",
    "print(recall_ci_class_1)\n",
    "print(\"---------------------------------------------------\")\n",
    "print(\"95% Confidence Interval - F1 Score - Class 0:\")\n",
    "print(fscore_ci_class_0)\n",
    "print(\"---------------------------------------------------\")\n",
    "print(\"95% Confidence Interval - F1 Score - Class 1:\")\n",
    "print(fscore_ci_class_1)\n",
    "print(\"---------------------------------------------------\")\n",
    "print(\"95% Confidence Interval - Accuracy:\")\n",
    "print(accuracy_ci)\n"
   ]
  },
  {
   "attachments": {},
   "cell_type": "markdown",
   "metadata": {},
   "source": [
    "***Analisando métricas do melhor k-fold***"
   ]
  },
  {
   "attachments": {},
   "cell_type": "markdown",
   "metadata": {},
   "source": [
    "***Analisando métricas da Decision Tree criada***"
   ]
  },
  {
   "cell_type": "code",
   "execution_count": 40,
   "metadata": {},
   "outputs": [
    {
     "name": "stdout",
     "output_type": "stream",
     "text": [
      "              precision    recall  f1-score   support\n",
      "\n",
      "           0       0.64      0.67      0.66       667\n",
      "           1       0.76      0.73      0.75       936\n",
      "\n",
      "    accuracy                           0.71      1603\n",
      "   macro avg       0.70      0.70      0.70      1603\n",
      "weighted avg       0.71      0.71      0.71      1603\n",
      "\n"
     ]
    },
    {
     "name": "stderr",
     "output_type": "stream",
     "text": [
      "c:\\Users\\gusta\\AppData\\Local\\Programs\\Python\\Python310\\lib\\site-packages\\yellowbrick\\classifier\\base.py:232: YellowbrickWarning: could not determine class_counts_ from previously fitted classifier\n",
      "  warnings.warn(\n"
     ]
    },
    {
     "data": {
      "image/png": "[encoded data removed]",
      "text/plain": [
       "<Figure size 800x550 with 1 Axes>"
      ]
     },
     "metadata": {},
     "output_type": "display_data"
    }
   ],
   "source": [
    "from sklearn.metrics import confusion_matrix\n",
    "\n",
    "cm = ConfusionMatrix(model)\n",
    "cm.score(Cd4AttributesTest, Cd4ClassResultsTest)\n",
    "y_pred = model.predict(Cd4AttributesTest)\n",
    "report = classification_report(Cd4ClassResultsTest, y_pred)\n",
    "print(report)"
   ]
  }
 ],
 "metadata": {
  "kernelspec": {
   "display_name": "Python 3",
   "language": "python",
   "name": "python3"
  },
  "language_info": {
   "codemirror_mode": {
    "name": "ipython",
    "version": 3
   },
   "file_extension": ".py",
   "mimetype": "text/x-python",
   "name": "python",
   "nbconvert_exporter": "python",
   "pygments_lexer": "ipython3",
   "version": "3.10.6"
  },
  "orig_nbformat": 4,
  "vscode": {
   "interpreter": {
    "hash": "801167540cbb55ba35d945cc42145fb282b6ddc0e114fed7a26f8df16ed9f164"
   }
  }
 },
 "nbformat": 4,
 "nbformat_minor": 2
}
