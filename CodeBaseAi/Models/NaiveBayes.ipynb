{
 "cells": [
  {
   "cell_type": "code",
   "execution_count": 1,
   "metadata": {},
   "outputs": [],
   "source": [
    "import pickle\n",
    "import pandas as pd\n",
    "import numpy as np\n",
    "from sklearn.ensemble import RandomForestClassifier\n",
    "import matplotlib.pyplot as plt\n",
    "from sklearn.metrics import accuracy_score, confusion_matrix, classification_report, precision_score, recall_score, f1_score\n",
    "from yellowbrick.classifier import ConfusionMatrix\n",
    "from sklearn.model_selection import GridSearchCV, KFold, train_test_split, cross_val_score\n",
    "from sklearn.datasets import fetch_20newsgroups\n",
    "from sklearn.feature_extraction.text import CountVectorizer\n",
    "from sklearn.naive_bayes import MultinomialNB, BernoulliNB, GaussianNB, ComplementNB, CategoricalNB\n",
    "from sklearn.model_selection import train_test_split, GridSearchCV\n",
    "from sklearn.metrics import accuracy_score, confusion_matrix, classification_report, precision_recall_fscore_support\n",
    "from sklearn.multiclass import OneVsRestClassifier\n",
    "from sklearn.dummy import DummyClassifier\n",
    "from sklearn.metrics import confusion_matrix\n",
    "import scipy.stats as st"
   ]
  },
  {
   "attachments": {},
   "cell_type": "markdown",
   "metadata": {},
   "source": [
    "***Get Data***"
   ]
  },
  {
   "cell_type": "code",
   "execution_count": 2,
   "metadata": {},
   "outputs": [],
   "source": [
    "with open('../DataBases/CD4EncodedBase.pkl', 'rb') as f:\n",
    "    columns, Cd4AttributesTrainingBalanced, Cd4ClassResultsTrainingBalanced, Cd4AttributesTest, Cd4ClassResultsTest = pickle.load(f)\n",
    "with open('../Databases/VlEncodedBase.pkl', 'rb') as f:\n",
    "    columns, VlAttributesTrainingBalanced, VlClassResultsTrainingBalanced, Vl4AttributesTest, VlClassResultsTest = pickle.load(f)"
   ]
  },
  {
   "attachments": {},
   "cell_type": "markdown",
   "metadata": {},
   "source": [
    "***GridSearch***"
   ]
  },
  {
   "cell_type": "code",
   "execution_count": 3,
   "metadata": {},
   "outputs": [],
   "source": [
    "param_grid = [\n",
    "    {\n",
    "        'estimator': [OneVsRestClassifier(MultinomialNB())],\n",
    "        'estimator__estimator__alpha': np.logspace(-3, 3, 7),\n",
    "        'estimator__estimator__fit_prior': [True, False]\n",
    "    },\n",
    "    {\n",
    "        'estimator': [OneVsRestClassifier(BernoulliNB())],\n",
    "        'estimator__estimator__alpha': np.logspace(-3, 3, 7),\n",
    "        'estimator__estimator__fit_prior': [True, False],\n",
    "        'estimator__estimator__binarize': np.linspace(0.1, 0.9, 9)\n",
    "    },\n",
    "    {\n",
    "        'estimator': [OneVsRestClassifier(GaussianNB())],\n",
    "        'estimator__estimator__var_smoothing': np.logspace(-9,-6 ,4)\n",
    "    },\n",
    "    {\n",
    "        'estimator': [OneVsRestClassifier(ComplementNB())],\n",
    "        'estimator__estimator__alpha': np.logspace(-3, 3 ,7),\n",
    "        'estimator__estimator__fit_prior': [True,False],\n",
    "        'estimator__estimator__norm':[True,False]\n",
    "    },\n",
    "    {\n",
    "        'estimator': [OneVsRestClassifier(CategoricalNB())],\n",
    "        'estimator__estimator__alpha': np.logspace(-3 ,3 ,7),\n",
    "    }\n",
    "]"
   ]
  },
  {
   "cell_type": "code",
   "execution_count": 4,
   "metadata": {},
   "outputs": [],
   "source": [
    "grid_search = GridSearchCV(estimator=OneVsRestClassifier(DummyClassifier()), param_grid=param_grid, cv=5)"
   ]
  },
  {
   "cell_type": "code",
   "execution_count": 5,
   "metadata": {},
   "outputs": [
    {
     "data": {
      "text/html": [
       "<style>#sk-container-id-1 {color: black;background-color: white;}#sk-container-id-1 pre{padding: 0;}#sk-container-id-1 div.sk-toggleable {background-color: white;}#sk-container-id-1 label.sk-toggleable__label {cursor: pointer;display: block;width: 100%;margin-bottom: 0;padding: 0.3em;box-sizing: border-box;text-align: center;}#sk-container-id-1 label.sk-toggleable__label-arrow:before {content: \"▸\";float: left;margin-right: 0.25em;color: #696969;}#sk-container-id-1 label.sk-toggleable__label-arrow:hover:before {color: black;}#sk-container-id-1 div.sk-estimator:hover label.sk-toggleable__label-arrow:before {color: black;}#sk-container-id-1 div.sk-toggleable__content {max-height: 0;max-width: 0;overflow: hidden;text-align: left;background-color: #f0f8ff;}#sk-container-id-1 div.sk-toggleable__content pre {margin: 0.2em;color: black;border-radius: 0.25em;background-color: #f0f8ff;}#sk-container-id-1 input.sk-toggleable__control:checked~div.sk-toggleable__content {max-height: 200px;max-width: 100%;overflow: auto;}#sk-container-id-1 input.sk-toggleable__control:checked~label.sk-toggleable__label-arrow:before {content: \"▾\";}#sk-container-id-1 div.sk-estimator input.sk-toggleable__control:checked~label.sk-toggleable__label {background-color: #d4ebff;}#sk-container-id-1 div.sk-label input.sk-toggleable__control:checked~label.sk-toggleable__label {background-color: #d4ebff;}#sk-container-id-1 input.sk-hidden--visually {border: 0;clip: rect(1px 1px 1px 1px);clip: rect(1px, 1px, 1px, 1px);height: 1px;margin: -1px;overflow: hidden;padding: 0;position: absolute;width: 1px;}#sk-container-id-1 div.sk-estimator {font-family: monospace;background-color: #f0f8ff;border: 1px dotted black;border-radius: 0.25em;box-sizing: border-box;margin-bottom: 0.5em;}#sk-container-id-1 div.sk-estimator:hover {background-color: #d4ebff;}#sk-container-id-1 div.sk-parallel-item::after {content: \"\";width: 100%;border-bottom: 1px solid gray;flex-grow: 1;}#sk-container-id-1 div.sk-label:hover label.sk-toggleable__label {background-color: #d4ebff;}#sk-container-id-1 div.sk-serial::before {content: \"\";position: absolute;border-left: 1px solid gray;box-sizing: border-box;top: 0;bottom: 0;left: 50%;z-index: 0;}#sk-container-id-1 div.sk-serial {display: flex;flex-direction: column;align-items: center;background-color: white;padding-right: 0.2em;padding-left: 0.2em;position: relative;}#sk-container-id-1 div.sk-item {position: relative;z-index: 1;}#sk-container-id-1 div.sk-parallel {display: flex;align-items: stretch;justify-content: center;background-color: white;position: relative;}#sk-container-id-1 div.sk-item::before, #sk-container-id-1 div.sk-parallel-item::before {content: \"\";position: absolute;border-left: 1px solid gray;box-sizing: border-box;top: 0;bottom: 0;left: 50%;z-index: -1;}#sk-container-id-1 div.sk-parallel-item {display: flex;flex-direction: column;z-index: 1;position: relative;background-color: white;}#sk-container-id-1 div.sk-parallel-item:first-child::after {align-self: flex-end;width: 50%;}#sk-container-id-1 div.sk-parallel-item:last-child::after {align-self: flex-start;width: 50%;}#sk-container-id-1 div.sk-parallel-item:only-child::after {width: 0;}#sk-container-id-1 div.sk-dashed-wrapped {border: 1px dashed gray;margin: 0 0.4em 0.5em 0.4em;box-sizing: border-box;padding-bottom: 0.4em;background-color: white;}#sk-container-id-1 div.sk-label label {font-family: monospace;font-weight: bold;display: inline-block;line-height: 1.2em;}#sk-container-id-1 div.sk-label-container {text-align: center;}#sk-container-id-1 div.sk-container {/* jupyter's `normalize.less` sets `[hidden] { display: none; }` but bootstrap.min.css set `[hidden] { display: none !important; }` so we also need the `!important` here to be able to override the default hidden behavior on the sphinx rendered scikit-learn.org. See: https://github.com/scikit-learn/scikit-learn/issues/21755 */display: inline-block !important;position: relative;}#sk-container-id-1 div.sk-text-repr-fallback {display: none;}</style><div id=\"sk-container-id-1\" class=\"sk-top-container\"><div class=\"sk-text-repr-fallback\"><pre>GridSearchCV(cv=5, estimator=OneVsRestClassifier(estimator=DummyClassifier()),\n",
       "             param_grid=[{&#x27;estimator&#x27;: [OneVsRestClassifier(estimator=MultinomialNB())],\n",
       "                          &#x27;estimator__estimator__alpha&#x27;: array([1.e-03, 1.e-02, 1.e-01, 1.e+00, 1.e+01, 1.e+02, 1.e+03]),\n",
       "                          &#x27;estimator__estimator__fit_prior&#x27;: [True, False]},\n",
       "                         {&#x27;estimator&#x27;: [OneVsRestClassifier(estimator=BernoulliNB())],\n",
       "                          &#x27;es...\n",
       "                         {&#x27;estimator&#x27;: [OneVsRestClassifier(estimator=ComplementNB())],\n",
       "                          &#x27;estimator__estimator__alpha&#x27;: array([1.e-03, 1.e-02, 1.e-01, 1.e+00, 1.e+01, 1.e+02, 1.e+03]),\n",
       "                          &#x27;estimator__estimator__fit_prior&#x27;: [True, False],\n",
       "                          &#x27;estimator__estimator__norm&#x27;: [True, False]},\n",
       "                         {&#x27;estimator&#x27;: [OneVsRestClassifier(estimator=CategoricalNB())],\n",
       "                          &#x27;estimator__estimator__alpha&#x27;: array([1.e-03, 1.e-02, 1.e-01, 1.e+00, 1.e+01, 1.e+02, 1.e+03])}])</pre><b>In a Jupyter environment, please rerun this cell to show the HTML representation or trust the notebook. <br />On GitHub, the HTML representation is unable to render, please try loading this page with nbviewer.org.</b></div><div class=\"sk-container\" hidden><div class=\"sk-item sk-dashed-wrapped\"><div class=\"sk-label-container\"><div class=\"sk-label sk-toggleable\"><input class=\"sk-toggleable__control sk-hidden--visually\" id=\"sk-estimator-id-1\" type=\"checkbox\" ><label for=\"sk-estimator-id-1\" class=\"sk-toggleable__label sk-toggleable__label-arrow\">GridSearchCV</label><div class=\"sk-toggleable__content\"><pre>GridSearchCV(cv=5, estimator=OneVsRestClassifier(estimator=DummyClassifier()),\n",
       "             param_grid=[{&#x27;estimator&#x27;: [OneVsRestClassifier(estimator=MultinomialNB())],\n",
       "                          &#x27;estimator__estimator__alpha&#x27;: array([1.e-03, 1.e-02, 1.e-01, 1.e+00, 1.e+01, 1.e+02, 1.e+03]),\n",
       "                          &#x27;estimator__estimator__fit_prior&#x27;: [True, False]},\n",
       "                         {&#x27;estimator&#x27;: [OneVsRestClassifier(estimator=BernoulliNB())],\n",
       "                          &#x27;es...\n",
       "                         {&#x27;estimator&#x27;: [OneVsRestClassifier(estimator=ComplementNB())],\n",
       "                          &#x27;estimator__estimator__alpha&#x27;: array([1.e-03, 1.e-02, 1.e-01, 1.e+00, 1.e+01, 1.e+02, 1.e+03]),\n",
       "                          &#x27;estimator__estimator__fit_prior&#x27;: [True, False],\n",
       "                          &#x27;estimator__estimator__norm&#x27;: [True, False]},\n",
       "                         {&#x27;estimator&#x27;: [OneVsRestClassifier(estimator=CategoricalNB())],\n",
       "                          &#x27;estimator__estimator__alpha&#x27;: array([1.e-03, 1.e-02, 1.e-01, 1.e+00, 1.e+01, 1.e+02, 1.e+03])}])</pre></div></div></div><div class=\"sk-parallel\"><div class=\"sk-parallel-item\"><div class=\"sk-item\"><div class=\"sk-label-container\"><div class=\"sk-label sk-toggleable\"><input class=\"sk-toggleable__control sk-hidden--visually\" id=\"sk-estimator-id-2\" type=\"checkbox\" ><label for=\"sk-estimator-id-2\" class=\"sk-toggleable__label sk-toggleable__label-arrow\">estimator: OneVsRestClassifier</label><div class=\"sk-toggleable__content\"><pre>OneVsRestClassifier(estimator=DummyClassifier())</pre></div></div></div><div class=\"sk-serial\"><div class=\"sk-item sk-dashed-wrapped\"><div class=\"sk-parallel\"><div class=\"sk-parallel-item\"><div class=\"sk-item\"><div class=\"sk-label-container\"><div class=\"sk-label sk-toggleable\"><input class=\"sk-toggleable__control sk-hidden--visually\" id=\"sk-estimator-id-3\" type=\"checkbox\" ><label for=\"sk-estimator-id-3\" class=\"sk-toggleable__label sk-toggleable__label-arrow\">estimator: DummyClassifier</label><div class=\"sk-toggleable__content\"><pre>DummyClassifier()</pre></div></div></div><div class=\"sk-serial\"><div class=\"sk-item\"><div class=\"sk-estimator sk-toggleable\"><input class=\"sk-toggleable__control sk-hidden--visually\" id=\"sk-estimator-id-4\" type=\"checkbox\" ><label for=\"sk-estimator-id-4\" class=\"sk-toggleable__label sk-toggleable__label-arrow\">DummyClassifier</label><div class=\"sk-toggleable__content\"><pre>DummyClassifier()</pre></div></div></div></div></div></div></div></div></div></div></div></div></div></div></div>"
      ],
      "text/plain": [
       "GridSearchCV(cv=5, estimator=OneVsRestClassifier(estimator=DummyClassifier()),\n",
       "             param_grid=[{'estimator': [OneVsRestClassifier(estimator=MultinomialNB())],\n",
       "                          'estimator__estimator__alpha': array([1.e-03, 1.e-02, 1.e-01, 1.e+00, 1.e+01, 1.e+02, 1.e+03]),\n",
       "                          'estimator__estimator__fit_prior': [True, False]},\n",
       "                         {'estimator': [OneVsRestClassifier(estimator=BernoulliNB())],\n",
       "                          'es...\n",
       "                         {'estimator': [OneVsRestClassifier(estimator=ComplementNB())],\n",
       "                          'estimator__estimator__alpha': array([1.e-03, 1.e-02, 1.e-01, 1.e+00, 1.e+01, 1.e+02, 1.e+03]),\n",
       "                          'estimator__estimator__fit_prior': [True, False],\n",
       "                          'estimator__estimator__norm': [True, False]},\n",
       "                         {'estimator': [OneVsRestClassifier(estimator=CategoricalNB())],\n",
       "                          'estimator__estimator__alpha': array([1.e-03, 1.e-02, 1.e-01, 1.e+00, 1.e+01, 1.e+02, 1.e+03])}])"
      ]
     },
     "execution_count": 5,
     "metadata": {},
     "output_type": "execute_result"
    }
   ],
   "source": [
    "grid_search.fit(Cd4AttributesTrainingBalanced, Cd4ClassResultsTrainingBalanced)"
   ]
  },
  {
   "cell_type": "code",
   "execution_count": 6,
   "metadata": {},
   "outputs": [
    {
     "name": "stdout",
     "output_type": "stream",
     "text": [
      "{'estimator': OneVsRestClassifier(estimator=GaussianNB(var_smoothing=1e-07)), 'estimator__estimator__var_smoothing': 1e-07}\n",
      "0.670631101775744\n"
     ]
    }
   ],
   "source": [
    "print(grid_search.best_params_)\n",
    "print(grid_search.best_score_)\n",
    "best_model = grid_search.best_estimator_\n",
    "best_params = grid_search.best_params_"
   ]
  },
  {
   "attachments": {},
   "cell_type": "markdown",
   "metadata": {},
   "source": [
    "***Perform k-fold cross-validation and evaluate best model***"
   ]
  },
  {
   "cell_type": "code",
   "execution_count": 7,
   "metadata": {},
   "outputs": [
    {
     "name": "stdout",
     "output_type": "stream",
     "text": [
      "Average Precision - Class 0: 0.642\n",
      "Average Precision - Class 1: 0.683\n",
      "---------------------------------------------------\n",
      "Average Recall - Class 0: 0.485\n",
      "Average Recall - Class 1: 0.805\n",
      "---------------------------------------------------\n",
      "Average F1 Score - Class 0: 0.551\n",
      "Average F1 Score - Class 1: 0.739\n",
      "---------------------------------------------------\n",
      "Average Accuracy: 0.671\n",
      "---------------------------------------------------\n"
     ]
    }
   ],
   "source": [
    "# Perform k-fold cross-validation and calculate accuracy scores\n",
    "kf = KFold(n_splits=15, shuffle=True, random_state=42)\n",
    "\n",
    "# Create an empty list to store the metrics from each fold\n",
    "accuracy = []\n",
    "precision_scores_class_0 = []\n",
    "precision_scores_class_1 = []\n",
    "recall_scores_class_0 = []\n",
    "recall_scores_class_1 = []\n",
    "f1_scores_class_0 = []\n",
    "f1_scores_class_1 = []\n",
    "\n",
    "# Perform k-fold cross-validation\n",
    "for train_index, val_index in kf.split(VlAttributesTrainingBalanced):\n",
    "    X_train, X_val = Cd4AttributesTrainingBalanced[train_index], Cd4AttributesTrainingBalanced[val_index]\n",
    "    y_train, y_val = Cd4ClassResultsTrainingBalanced[train_index], Cd4ClassResultsTrainingBalanced[val_index]\n",
    "\n",
    "    # Fit the model on the training data\n",
    "    best_model.fit(X_train, y_train)\n",
    "\n",
    "    # Predict the labels for the validation data\n",
    "    y_pred = best_model.predict(X_val)\n",
    "\n",
    "    # Store the precision, recall, and F-measure scores for each class\n",
    "    precision, recall, fscore, support = precision_recall_fscore_support(y_val, y_pred, average=None)\n",
    "    accuracy.append(accuracy_score(y_val, y_pred))\n",
    "\n",
    "    precision_scores_class_0.append(precision[0])\n",
    "    precision_scores_class_1.append(precision[1])\n",
    "    recall_scores_class_0.append(recall[0])\n",
    "    recall_scores_class_1.append(recall[1])\n",
    "    f1_scores_class_0.append(fscore[0])\n",
    "    f1_scores_class_1.append(fscore[1])\n",
    "\n",
    "precision_avg_class_0 = np.round(np.mean(precision_scores_class_0), 3)\n",
    "precision_avg_class_1 = np.round(np.mean(precision_scores_class_1), 3)\n",
    "recall_avg_class_0 = np.round(np.mean(recall_scores_class_0), 3)\n",
    "recall_avg_class_1 = np.round(np.mean(recall_scores_class_1), 3)\n",
    "f1_avg_class_0 = np.round(np.mean(f1_scores_class_0), 3)\n",
    "f1_avg_class_1 = np.round(np.mean(f1_scores_class_1), 3)\n",
    "accuracy_avg = np.round(np.mean(accuracy), 3)\n",
    "\n",
    "print(\"Average Precision - Class 0:\", precision_avg_class_0)\n",
    "print(\"Average Precision - Class 1:\", precision_avg_class_1)\n",
    "print(\"---------------------------------------------------\")\n",
    "print(\"Average Recall - Class 0:\", recall_avg_class_0)\n",
    "print(\"Average Recall - Class 1:\", recall_avg_class_1)\n",
    "print(\"---------------------------------------------------\")\n",
    "print(\"Average F1 Score - Class 0:\", f1_avg_class_0)\n",
    "print(\"Average F1 Score - Class 1:\", f1_avg_class_1)\n",
    "print(\"---------------------------------------------------\")\n",
    "print(\"Average Accuracy:\", accuracy_avg)\n",
    "print(\"---------------------------------------------------\")\n",
    "\n",
    "with open('../Results/Cd4Naive.pkl', 'wb') as f:\n",
    "    pickle.dump([accuracy], f)"
   ]
  },
  {
   "attachments": {},
   "cell_type": "markdown",
   "metadata": {},
   "source": [
    "***Executing Naive Bayes***"
   ]
  },
  {
   "cell_type": "code",
   "execution_count": 8,
   "metadata": {},
   "outputs": [],
   "source": [
    "nab = best_model\n",
    "model = nab.fit(Cd4AttributesTrainingBalanced, Cd4ClassResultsTrainingBalanced)"
   ]
  },
  {
   "attachments": {},
   "cell_type": "markdown",
   "metadata": {},
   "source": [
    "***Confidence interval***"
   ]
  },
  {
   "cell_type": "code",
   "execution_count": 9,
   "metadata": {},
   "outputs": [
    {
     "name": "stdout",
     "output_type": "stream",
     "text": [
      "95% Confidence Interval - Precision - Class 0:\n",
      "(0.615182131547501, 0.6682938922787178)\n",
      "---------------------------------------------------\n",
      "95% Confidence Interval - Precision - Class 1:\n",
      "(0.6592507534765008, 0.7069365343770347)\n",
      "---------------------------------------------------\n",
      "95% Confidence Interval - Recall - Class 0:\n",
      "(0.4592991055142354, 0.5097406838891191)\n",
      "---------------------------------------------------\n",
      "95% Confidence Interval - Recall - Class 1:\n",
      "(0.7938722271761757, 0.8167687881778424)\n",
      "---------------------------------------------------\n",
      "95% Confidence Interval - F1 Score - Class 0:\n",
      "(0.5280810499986793, 0.574447314769638)\n",
      "---------------------------------------------------\n",
      "95% Confidence Interval - F1 Score - Class 1:\n",
      "(0.7218091279916183, 0.7552663310079939)\n",
      "---------------------------------------------------\n",
      "95% Confidence Interval - Accuracy:\n",
      "(0.6536595361758986, 0.687364722584209)\n"
     ]
    }
   ],
   "source": [
    "#Function for calculating confidence interval from cross-validation\n",
    "def interval_confidence(values):\n",
    "    return st.t.interval(confidence=0.95, df=len(values)-1, loc=np.mean(values), scale=st.sem(values))\n",
    "    \n",
    "# Calculate confidence intervals for precision, recall, and F1 scores of each class\n",
    "precision_ci_class_0 = interval_confidence(np.array(precision_scores_class_0))\n",
    "precision_ci_class_1 = interval_confidence(np.array(precision_scores_class_1))\n",
    "recall_ci_class_0 = interval_confidence(np.array(recall_scores_class_0))\n",
    "recall_ci_class_1 = interval_confidence(np.array(recall_scores_class_1))\n",
    "fscore_ci_class_0 = interval_confidence(np.array(f1_scores_class_0))\n",
    "fscore_ci_class_1 = interval_confidence(np.array(f1_scores_class_1))\n",
    "accuracy_ci = interval_confidence(np.array(accuracy))\n",
    "\n",
    "# Print confidence intervals for each class\n",
    "print(\"95% Confidence Interval - Precision - Class 0:\")\n",
    "print(precision_ci_class_0)\n",
    "print(\"---------------------------------------------------\")\n",
    "print(\"95% Confidence Interval - Precision - Class 1:\")\n",
    "print(precision_ci_class_1)\n",
    "print(\"---------------------------------------------------\")\n",
    "print(\"95% Confidence Interval - Recall - Class 0:\")\n",
    "print(recall_ci_class_0)\n",
    "print(\"---------------------------------------------------\")\n",
    "print(\"95% Confidence Interval - Recall - Class 1:\")\n",
    "print(recall_ci_class_1)\n",
    "print(\"---------------------------------------------------\")\n",
    "print(\"95% Confidence Interval - F1 Score - Class 0:\")\n",
    "print(fscore_ci_class_0)\n",
    "print(\"---------------------------------------------------\")\n",
    "print(\"95% Confidence Interval - F1 Score - Class 1:\")\n",
    "print(fscore_ci_class_1)\n",
    "print(\"---------------------------------------------------\")\n",
    "print(\"95% Confidence Interval - Accuracy:\")\n",
    "print(accuracy_ci)\n"
   ]
  },
  {
   "attachments": {},
   "cell_type": "markdown",
   "metadata": {},
   "source": [
    "***Metrics***"
   ]
  },
  {
   "cell_type": "code",
   "execution_count": 10,
   "metadata": {},
   "outputs": [
    {
     "name": "stdout",
     "output_type": "stream",
     "text": [
      "              precision    recall  f1-score   support\n",
      "\n",
      "           0       0.68      0.57      0.62       667\n",
      "           1       0.73      0.80      0.76       936\n",
      "\n",
      "    accuracy                           0.71      1603\n",
      "   macro avg       0.70      0.69      0.69      1603\n",
      "weighted avg       0.70      0.71      0.70      1603\n",
      "\n"
     ]
    },
    {
     "name": "stderr",
     "output_type": "stream",
     "text": [
      "c:\\Users\\gusta\\AppData\\Local\\Programs\\Python\\Python310\\lib\\site-packages\\yellowbrick\\classifier\\base.py:232: YellowbrickWarning: could not determine class_counts_ from previously fitted classifier\n",
      "  warnings.warn(\n"
     ]
    },
    {
     "data": {
      "image/png": "[encoded data removed]",
      "text/plain": [
       "<Figure size 800x550 with 1 Axes>"
      ]
     },
     "metadata": {},
     "output_type": "display_data"
    }
   ],
   "source": [
    "from sklearn.metrics import confusion_matrix\n",
    "\n",
    "cm = ConfusionMatrix(model)\n",
    "cm.score(Cd4AttributesTest, Cd4ClassResultsTest)\n",
    "y_pred = model.predict(Cd4AttributesTest)\n",
    "report = classification_report(Cd4ClassResultsTest, y_pred)\n",
    "print(report)"
   ]
  },
  {
   "attachments": {},
   "cell_type": "markdown",
   "metadata": {},
   "source": [
    "***Confidence Interval***"
   ]
  },
  {
   "cell_type": "code",
   "execution_count": 11,
   "metadata": {},
   "outputs": [
    {
     "name": "stdout",
     "output_type": "stream",
     "text": [
      "95% Confidence Interval for Precision (Class 0): (0.615182131547501, 0.6682938922787178)\n",
      "95% Confidence Interval for Precision (Class 1): (0.6592507534765008, 0.7069365343770347)\n",
      "95% Confidence Interval for Recall (Class 0): (0.4592991055142354, 0.5097406838891191)\n",
      "95% Confidence Interval for Recall (Class 1): (0.7938722271761757, 0.8167687881778424)\n",
      "95% Confidence Interval for F1 (Class 0): (0.5280810499986793, 0.574447314769638)\n",
      "95% Confidence Interval for F1 (Class 1): (0.7218091279916183, 0.7552663310079939)\n"
     ]
    }
   ],
   "source": [
    "class_0_precision_confidence_interval = st.t.interval(confidence=0.95, df=len(precision_scores_class_0)-1, loc=np.mean(precision_scores_class_0), scale=st.sem(precision_scores_class_0))\n",
    "class_1_precision_confidence_interval = st.t.interval(confidence=0.95, df=len(precision_scores_class_1)-1, loc=np.mean(precision_scores_class_1), scale=st.sem(precision_scores_class_1))\n",
    "class_0_recall_confidence_interval = st.t.interval(confidence=0.95, df=len(recall_scores_class_0)-1, loc=np.mean(recall_scores_class_0), scale=st.sem(recall_scores_class_0))\n",
    "class_1_recall_confidence_interval = st.t.interval(confidence=0.95, df=len(recall_scores_class_1)-1, loc=np.mean(recall_scores_class_1), scale=st.sem(recall_scores_class_1))\n",
    "class_0_f1_confidence_interval = st.t.interval(confidence=0.95, df=len(f1_scores_class_0)-1, loc=np.mean(f1_scores_class_0), scale=st.sem(f1_scores_class_0))\n",
    "class_1_f1_confidence_interval = st.t.interval(confidence=0.95, df=len(f1_scores_class_1)-1, loc=np.mean(f1_scores_class_1), scale=st.sem(f1_scores_class_1))\n",
    "print(\"95% Confidence Interval for Precision (Class 0):\", class_0_precision_confidence_interval)\n",
    "print(\"95% Confidence Interval for Precision (Class 1):\", class_1_precision_confidence_interval)\n",
    "print(\"95% Confidence Interval for Recall (Class 0):\", class_0_recall_confidence_interval)\n",
    "print(\"95% Confidence Interval for Recall (Class 1):\", class_1_recall_confidence_interval)\n",
    "print(\"95% Confidence Interval for F1 (Class 0):\", class_0_f1_confidence_interval)\n",
    "print(\"95% Confidence Interval for F1 (Class 1):\", class_1_f1_confidence_interval)"
   ]
  }
 ],
 "metadata": {
  "kernelspec": {
   "display_name": "Python 3",
   "language": "python",
   "name": "python3"
  },
  "language_info": {
   "codemirror_mode": {
    "name": "ipython",
    "version": 3
   },
   "file_extension": ".py",
   "mimetype": "text/x-python",
   "name": "python",
   "nbconvert_exporter": "python",
   "pygments_lexer": "ipython3",
   "version": "3.10.6"
  },
  "orig_nbformat": 4,
  "vscode": {
   "interpreter": {
    "hash": "801167540cbb55ba35d945cc42145fb282b6ddc0e114fed7a26f8df16ed9f164"
   }
  }
 },
 "nbformat": 4,
 "nbformat_minor": 2
}
