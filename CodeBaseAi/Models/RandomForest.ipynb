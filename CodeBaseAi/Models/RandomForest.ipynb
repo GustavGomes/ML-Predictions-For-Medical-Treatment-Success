{
 "cells": [
  {
   "cell_type": "code",
   "execution_count": 14,
   "metadata": {},
   "outputs": [],
   "source": [
    "import pickle\n",
    "import pandas as pd\n",
    "from sklearn.ensemble import RandomForestClassifier\n",
    "import matplotlib.pyplot as plt\n",
    "from sklearn.metrics import accuracy_score, confusion_matrix, classification_report, precision_recall_fscore_support\n",
    "from yellowbrick.classifier import ConfusionMatrix\n",
    "from sklearn.model_selection import GridSearchCV, KFold, train_test_split, cross_val_score\n",
    "import numpy as np\n",
    "import scipy.stats as st\n"
   ]
  },
  {
   "attachments": {},
   "cell_type": "markdown",
   "metadata": {},
   "source": [
    "***Open with data***"
   ]
  },
  {
   "cell_type": "code",
   "execution_count": 15,
   "metadata": {},
   "outputs": [],
   "source": [
    "with open('../DataBases/CD4EncodedBase.pkl', 'rb') as f:\n",
    "    columns, Cd4AttributesTrainingBalanced, Cd4ClassResultsTrainingBalanced, Cd4AttributesTest, Cd4ClassResultsTest = pickle.load(f)\n",
    "with open('../Databases/VlEncodedBase.pkl', 'rb') as f:\n",
    "    columns, VlAttributesTrainingBalanced, VlClassResultsTrainingBalanced, Vl4AttributesTest, VlClassResultsTest = pickle.load(f)\n"
   ]
  },
  {
   "attachments": {},
   "cell_type": "markdown",
   "metadata": {},
   "source": [
    "***GridSearch for Random Forest***"
   ]
  },
  {
   "cell_type": "code",
   "execution_count": 16,
   "metadata": {},
   "outputs": [],
   "source": [
    "params = {\n",
    "    'n_estimators': [120],\n",
    "    'max_depth': [5, 20, 30, None],\n",
    "    'min_samples_split': [3, 5, 10, 50, 100],\n",
    "    'min_samples_leaf': [3, 5, 10, 50, 100],\n",
    "    'criterion': ['gini', 'entropy'],\n",
    "    'max_features': ['auto', None]\n",
    "}"
   ]
  },
  {
   "attachments": {},
   "cell_type": "markdown",
   "metadata": {},
   "source": [
    "***Creating Grid***"
   ]
  },
  {
   "cell_type": "code",
   "execution_count": 17,
   "metadata": {},
   "outputs": [],
   "source": [
    "grid = GridSearchCV(\n",
    "    RandomForestClassifier(),\n",
    "    param_grid=params,\n",
    "    cv=5,\n",
    "    verbose=1,\n",
    "    n_jobs=-1\n",
    ")"
   ]
  },
  {
   "attachments": {},
   "cell_type": "markdown",
   "metadata": {},
   "source": [
    "***Run Grid***"
   ]
  },
  {
   "cell_type": "code",
   "execution_count": 18,
   "metadata": {},
   "outputs": [],
   "source": [
    "#grid.fit(Cd4AttributesTrainingBalanced, Cd4ClassResultsTrainingBalanced)"
   ]
  },
  {
   "cell_type": "code",
   "execution_count": 19,
   "metadata": {},
   "outputs": [],
   "source": [
    "#print(grid.best_params_)\n",
    "#print(grid.best_score_)\n",
    "#best_model = grid.best_estimator_\n",
    "#best_params = grid.best_params_\n",
    "best_model = RandomForestClassifier(max_depth=30, max_features=None, min_samples_leaf=5, min_samples_split=5, n_estimators=120, criterion='entropy')"
   ]
  },
  {
   "attachments": {},
   "cell_type": "markdown",
   "metadata": {},
   "source": [
    "***k-fold***"
   ]
  },
  {
   "cell_type": "code",
   "execution_count": 21,
   "metadata": {},
   "outputs": [
    {
     "name": "stdout",
     "output_type": "stream",
     "text": [
      "Average Precision - Class 0: 0.677\n",
      "Average Precision - Class 1: 0.749\n",
      "---------------------------------------------------\n",
      "Average Recall - Class 0: 0.637\n",
      "Average Recall - Class 1: 0.782\n",
      "---------------------------------------------------\n",
      "Average F1 Score - Class 0: 0.655\n",
      "Average F1 Score - Class 1: 0.764\n",
      "---------------------------------------------------\n",
      "Average Accuracy: 0.72\n",
      "Best Model Accuracy: 0.7669172932330827\n"
     ]
    }
   ],
   "source": [
    "import numpy as np\n",
    "from sklearn.model_selection import KFold\n",
    "from sklearn.metrics import accuracy_score, precision_recall_fscore_support\n",
    "from copy import deepcopy\n",
    "\n",
    "kf = KFold(n_splits=15, shuffle=True, random_state=42)\n",
    "best_accuracy = 0\n",
    "best_model_kfold = None\n",
    "\n",
    "# Create an empty list to store the metrics from each fold\n",
    "accuracy = []\n",
    "precision_scores_class_0 = []\n",
    "precision_scores_class_1 = []\n",
    "recall_scores_class_0 = []\n",
    "recall_scores_class_1 = []\n",
    "f1_scores_class_0 = []\n",
    "f1_scores_class_1 = []\n",
    "fold = 0\n",
    "\n",
    "# Perform k-fold cross-validation\n",
    "for train_index, val_index in kf.split(VlAttributesTrainingBalanced):\n",
    "    X_train, X_val = Cd4AttributesTrainingBalanced[train_index], Cd4AttributesTrainingBalanced[val_index]\n",
    "    y_train, y_val = Cd4ClassResultsTrainingBalanced[train_index], Cd4ClassResultsTrainingBalanced[val_index]\n",
    "\n",
    "    # Fit the model on the training data\n",
    "    best_model.fit(X_train, y_train)\n",
    "\n",
    "    # Predict the labels for the validation data\n",
    "    y_pred = best_model.predict(X_val)\n",
    "\n",
    "    # Store the precision, recall, and F-measure scores for each class\n",
    "    precision, recall, fscore, support = precision_recall_fscore_support(y_val, y_pred, average=None)\n",
    "    accuracy.append(accuracy_score(y_val, y_pred))\n",
    "    precision_scores_class_0.append(precision[0])\n",
    "    precision_scores_class_1.append(precision[1])\n",
    "    recall_scores_class_0.append(recall[0])\n",
    "    recall_scores_class_1.append(recall[1])\n",
    "    f1_scores_class_0.append(fscore[0])\n",
    "    f1_scores_class_1.append(fscore[1])\n",
    "\n",
    "    # Update the best model if a better accuracy is found\n",
    "    fold_accuracy = accuracy_score(y_val, y_pred)\n",
    "    if fold_accuracy > best_accuracy:\n",
    "        best_accuracy = fold_accuracy\n",
    "        best_model_kfold = deepcopy(best_model)\n",
    "\n",
    "    fold += 1\n",
    "\n",
    "precision_avg_class_0 = np.round(np.mean(precision_scores_class_0), 3)\n",
    "precision_avg_class_1 = np.round(np.mean(precision_scores_class_1), 3)\n",
    "recall_avg_class_0 = np.round(np.mean(recall_scores_class_0), 3)\n",
    "recall_avg_class_1 = np.round(np.mean(recall_scores_class_1), 3)\n",
    "f1_avg_class_0 = np.round(np.mean(f1_scores_class_0), 3)\n",
    "f1_avg_class_1 = np.round(np.mean(f1_scores_class_1), 3)\n",
    "accuracy_avg = np.round(np.mean(accuracy), 3)\n",
    "\n",
    "print(\"Average Precision - Class 0:\", precision_avg_class_0)\n",
    "print(\"Average Precision - Class 1:\", precision_avg_class_1)\n",
    "print(\"---------------------------------------------------\")\n",
    "print(\"Average Recall - Class 0:\", recall_avg_class_0)\n",
    "print(\"Average Recall - Class 1:\", recall_avg_class_1)\n",
    "print(\"---------------------------------------------------\")\n",
    "print(\"Average F1 Score - Class 0:\", f1_avg_class_0)\n",
    "print(\"Average F1 Score - Class 1:\", f1_avg_class_1)\n",
    "print(\"---------------------------------------------------\")\n",
    "print(\"Average Accuracy:\", accuracy_avg)\n",
    "print(\"Best Model Accuracy:\", best_accuracy)\n",
    "\n",
    "with open('../Results/Cd4RandomForest.pkl', 'wb') as f:\n",
    "    pickle.dump([accuracy], f)\n"
   ]
  },
  {
   "attachments": {},
   "cell_type": "markdown",
   "metadata": {},
   "source": [
    "***confidence interval***"
   ]
  },
  {
   "cell_type": "code",
   "execution_count": null,
   "metadata": {},
   "outputs": [
    {
     "name": "stdout",
     "output_type": "stream",
     "text": [
      "95% Confidence Interval - Precision - Class 0:\n",
      "(0.6413509758924125, 0.711306786109013)\n",
      "---------------------------------------------------\n",
      "95% Confidence Interval - Precision - Class 1:\n",
      "(0.7252125349787368, 0.7737881551954797)\n",
      "---------------------------------------------------\n",
      "95% Confidence Interval - Recall - Class 0:\n",
      "(0.6145146583544663, 0.6691238818555862)\n",
      "---------------------------------------------------\n",
      "95% Confidence Interval - Recall - Class 1:\n",
      "(0.7542744359762511, 0.8009781788176503)\n",
      "---------------------------------------------------\n",
      "95% Confidence Interval - F1 Score - Class 0:\n",
      "(0.6318783554248908, 0.6818881474041885)\n",
      "---------------------------------------------------\n",
      "95% Confidence Interval - F1 Score - Class 1:\n",
      "(0.7439957955368255, 0.7805565497449003)\n",
      "---------------------------------------------------\n",
      "95% Confidence Interval - Accuracy:\n",
      "(0.7007736044500242, 0.7390258942968432)\n"
     ]
    }
   ],
   "source": [
    "#Function for calculating confidence interval from cross-validation\n",
    "def interval_confidence(values):\n",
    "    return st.t.interval(confidence=0.95, df=len(values)-1, loc=np.mean(values), scale=st.sem(values))\n",
    "    \n",
    "# Calculate confidence intervals for precision, recall, and F1 scores of each class\n",
    "precision_ci_class_0 = interval_confidence(np.array(precision_scores_class_0))\n",
    "precision_ci_class_1 = interval_confidence(np.array(precision_scores_class_1))\n",
    "recall_ci_class_0 = interval_confidence(np.array(recall_scores_class_0))\n",
    "recall_ci_class_1 = interval_confidence(np.array(recall_scores_class_1))\n",
    "fscore_ci_class_0 = interval_confidence(np.array(f1_scores_class_0))\n",
    "fscore_ci_class_1 = interval_confidence(np.array(f1_scores_class_1))\n",
    "accuracy_ci = interval_confidence(np.array(accuracy))\n",
    "\n",
    "# Print confidence intervals for each class\n",
    "print(\"95% Confidence Interval - Precision - Class 0:\")\n",
    "print(precision_ci_class_0)\n",
    "print(\"---------------------------------------------------\")\n",
    "print(\"95% Confidence Interval - Precision - Class 1:\")\n",
    "print(precision_ci_class_1)\n",
    "print(\"---------------------------------------------------\")\n",
    "print(\"95% Confidence Interval - Recall - Class 0:\")\n",
    "print(recall_ci_class_0)\n",
    "print(\"---------------------------------------------------\")\n",
    "print(\"95% Confidence Interval - Recall - Class 1:\")\n",
    "print(recall_ci_class_1)\n",
    "print(\"---------------------------------------------------\")\n",
    "print(\"95% Confidence Interval - F1 Score - Class 0:\")\n",
    "print(fscore_ci_class_0)\n",
    "print(\"---------------------------------------------------\")\n",
    "print(\"95% Confidence Interval - F1 Score - Class 1:\")\n",
    "print(fscore_ci_class_1)\n",
    "print(\"---------------------------------------------------\")\n",
    "print(\"95% Confidence Interval - Accuracy:\")\n",
    "print(accuracy_ci)\n"
   ]
  },
  {
   "attachments": {},
   "cell_type": "markdown",
   "metadata": {},
   "source": [
    "***Criando e executando a Random Forest***"
   ]
  },
  {
   "cell_type": "code",
   "execution_count": null,
   "metadata": {},
   "outputs": [
    {
     "name": "stderr",
     "output_type": "stream",
     "text": [
      "c:\\Users\\gusta\\AppData\\Local\\Programs\\Python\\Python310\\lib\\site-packages\\sklearn\\ensemble\\_forest.py:424: FutureWarning: `max_features='auto'` has been deprecated in 1.1 and will be removed in 1.3. To keep the past behaviour, explicitly set `max_features='sqrt'` or remove this parameter as it is also the default value for RandomForestClassifiers and ExtraTreesClassifiers.\n",
      "  warn(\n"
     ]
    },
    {
     "data": {
      "text/plain": [
       "0.7286338116032439"
      ]
     },
     "execution_count": 50,
     "metadata": {},
     "output_type": "execute_result"
    }
   ],
   "source": [
    "\n",
    "rfc = best_model\n",
    "model = rfc.fit(Cd4AttributesTrainingBalanced, Cd4ClassResultsTrainingBalanced)\n",
    "rfc.score(Cd4AttributesTest, Cd4ClassResultsTest)"
   ]
  },
  {
   "attachments": {},
   "cell_type": "markdown",
   "metadata": {},
   "source": [
    "***Analisando métricas da Random Forest criada***"
   ]
  },
  {
   "cell_type": "code",
   "execution_count": null,
   "metadata": {},
   "outputs": [
    {
     "name": "stderr",
     "output_type": "stream",
     "text": [
      "c:\\Users\\gusta\\AppData\\Local\\Programs\\Python\\Python310\\lib\\site-packages\\yellowbrick\\classifier\\base.py:232: YellowbrickWarning: could not determine class_counts_ from previously fitted classifier\n",
      "  warnings.warn(\n"
     ]
    },
    {
     "name": "stdout",
     "output_type": "stream",
     "text": [
      "              precision    recall  f1-score   support\n",
      "\n",
      "           0       0.67      0.70      0.68       667\n",
      "           1       0.78      0.75      0.76       936\n",
      "\n",
      "    accuracy                           0.73      1603\n",
      "   macro avg       0.72      0.72      0.72      1603\n",
      "weighted avg       0.73      0.73      0.73      1603\n",
      "\n"
     ]
    },
    {
     "data": {
      "image/png": "[encoded data removed]",
      "text/plain": [
       "<Figure size 800x550 with 1 Axes>"
      ]
     },
     "metadata": {},
     "output_type": "display_data"
    }
   ],
   "source": [
    "from sklearn.metrics import confusion_matrix\n",
    "\n",
    "cm = ConfusionMatrix(model)\n",
    "cm.score(Cd4AttributesTest, Cd4ClassResultsTest)\n",
    "y_pred = model.predict(Cd4AttributesTest)\n",
    "report = classification_report(Cd4ClassResultsTest, y_pred)\n",
    "print(report)"
   ]
  }
 ],
 "metadata": {
  "kernelspec": {
   "display_name": "Python 3",
   "language": "python",
   "name": "python3"
  },
  "language_info": {
   "codemirror_mode": {
    "name": "ipython",
    "version": 3
   },
   "file_extension": ".py",
   "mimetype": "text/x-python",
   "name": "python",
   "nbconvert_exporter": "python",
   "pygments_lexer": "ipython3",
   "version": "3.10.6"
  },
  "orig_nbformat": 4,
  "vscode": {
   "interpreter": {
    "hash": "801167540cbb55ba35d945cc42145fb282b6ddc0e114fed7a26f8df16ed9f164"
   }
  }
 },
 "nbformat": 4,
 "nbformat_minor": 2
}
