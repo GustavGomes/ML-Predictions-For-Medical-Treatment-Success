{
 "cells": [
  {
   "attachments": {},
   "cell_type": "markdown",
   "metadata": {},
   "source": [
    "***Pré-Processamento***"
   ]
  },
  {
   "attachments": {},
   "cell_type": "markdown",
   "metadata": {},
   "source": [
    "***Imports***"
   ]
  },
  {
   "cell_type": "code",
   "execution_count": 61,
   "metadata": {},
   "outputs": [],
   "source": [
    "import pandas as pd\n",
    "import pickle\n",
    "from imblearn.over_sampling import SMOTE\n",
    "from imblearn.under_sampling import RandomUnderSampler"
   ]
  },
  {
   "attachments": {},
   "cell_type": "markdown",
   "metadata": {},
   "source": [
    "***Get File***"
   ]
  },
  {
   "cell_type": "code",
   "execution_count": 62,
   "metadata": {},
   "outputs": [],
   "source": [
    "dataFrame = pd.read_csv('../DataBases/CD4DB.csv', sep=';',index_col=None,decimal=',')"
   ]
  },
  {
   "attachments": {},
   "cell_type": "markdown",
   "metadata": {},
   "source": [
    "***Handle missing values***\n",
    "\n"
   ]
  },
  {
   "attachments": {},
   "cell_type": "markdown",
   "metadata": {},
   "source": [
    "***Get mean of ART_ADHER***"
   ]
  },
  {
   "cell_type": "code",
   "execution_count": 63,
   "metadata": {},
   "outputs": [],
   "source": [
    "adherenceMeanById = dataFrame.groupby('ID')['ART_ADHER'].mean()\n",
    "dataFrame['ART_ADHER'] = dataFrame['ID'].map(adherenceMeanById)"
   ]
  },
  {
   "attachments": {},
   "cell_type": "markdown",
   "metadata": {},
   "source": [
    "***Get last instance of each id***"
   ]
  },
  {
   "cell_type": "code",
   "execution_count": 64,
   "metadata": {},
   "outputs": [],
   "source": [
    "dbUniqueIds = dataFrame.sort_values('CD4_DT2').groupby('ID').last()"
   ]
  },
  {
   "attachments": {},
   "cell_type": "markdown",
   "metadata": {},
   "source": [
    "***Drop values with missing VL_STATUS for the VlPrediction***"
   ]
  },
  {
   "cell_type": "code",
   "execution_count": 65,
   "metadata": {},
   "outputs": [],
   "source": [
    "dbUniqueIdsForVl = dbUniqueIds.drop(dbUniqueIds[dbUniqueIds['VL_STATUS'] == 2].index)"
   ]
  },
  {
   "attachments": {},
   "cell_type": "markdown",
   "metadata": {},
   "source": [
    "***Isolate core attributes***\n"
   ]
  },
  {
   "cell_type": "code",
   "execution_count": 66,
   "metadata": {},
   "outputs": [],
   "source": [
    "dbCd4CoreAttributes = dbUniqueIds.loc[:, ['GENDER', 'AGE', 'CD4_BASE', 'VL_BASE', 'ART_ADHER', 'TP_FOLLOW']]\n",
    "dbCd4CoreAttributes.reset_index(drop=True, inplace=True)\n",
    "dbVlCoreAttributes = dbUniqueIdsForVl.loc[:, ['GENDER', 'AGE', 'CD4_BASE', 'VL_BASE', 'ART_ADHER', 'TP_FOLLOW']]\n",
    "dbVlCoreAttributes.reset_index(drop=True, inplace=True)"
   ]
  },
  {
   "attachments": {},
   "cell_type": "markdown",
   "metadata": {},
   "source": [
    "***Outliers***"
   ]
  },
  {
   "cell_type": "code",
   "execution_count": 67,
   "metadata": {},
   "outputs": [],
   "source": [
    "for col in dbCd4CoreAttributes.columns:\n",
    "    threshold = dbCd4CoreAttributes[col].quantile(0.99)\n",
    "    dbCd4CoreAttributes[col].clip(upper=threshold ,inplace=True)\n",
    "for col in dbVlCoreAttributes.columns:\n",
    "    threshold = dbVlCoreAttributes[col].quantile(0.99)\n",
    "    dbVlCoreAttributes[col].clip(upper=threshold ,inplace=True)"
   ]
  },
  {
   "attachments": {},
   "cell_type": "markdown",
   "metadata": {},
   "source": [
    "***Get attribute and class values***"
   ]
  },
  {
   "cell_type": "code",
   "execution_count": 68,
   "metadata": {},
   "outputs": [],
   "source": [
    "attributesCd4 = dbCd4CoreAttributes.values\n",
    "attributesVl = dbVlCoreAttributes.values\n",
    "Cd4StatusClassResults = dbUniqueIds['CD4_STATUS']\n",
    "VlStatusClassResults = dbUniqueIdsForVl['VL_STATUS']"
   ]
  },
  {
   "attachments": {},
   "cell_type": "markdown",
   "metadata": {},
   "source": [
    "***Training split***"
   ]
  },
  {
   "cell_type": "code",
   "execution_count": 69,
   "metadata": {},
   "outputs": [],
   "source": [
    "from sklearn.model_selection import train_test_split\n",
    "\n",
    "\n",
    "Cd4AttributesTraining, Cd4AttributesTest, Cd4ClassResultsTraining, Cd4ClassResultsTest = train_test_split(attributesCd4, Cd4StatusClassResults, test_size=0.2, random_state=42, stratify=Cd4StatusClassResults, shuffle=True)\n",
    "VlAttributesTraining, Vl4AttributesTest, VlClassResultsTraining, VlClassResultsTest = train_test_split(attributesVl, VlStatusClassResults, test_size=0.2, random_state=42, stratify=VlStatusClassResults, shuffle=True)"
   ]
  },
  {
   "attachments": {},
   "cell_type": "markdown",
   "metadata": {},
   "source": [
    "***Using NCR + SMOTE to balance the classes and remove noisy***"
   ]
  },
  {
   "cell_type": "code",
   "execution_count": 70,
   "metadata": {},
   "outputs": [
    {
     "data": {
      "text/plain": [
       "1    3742\n",
       "0    3742\n",
       "Name: CD4_STATUS, dtype: int64"
      ]
     },
     "execution_count": 70,
     "metadata": {},
     "output_type": "execute_result"
    }
   ],
   "source": [
    "from imblearn.under_sampling import NeighbourhoodCleaningRule\n",
    "\n",
    "ncr = NeighbourhoodCleaningRule()\n",
    "Cd4AttributesTrainingBalanced, Cd4ClassResultsTrainingBalanced = ncr.fit_resample(Cd4AttributesTraining, Cd4ClassResultsTraining)\n",
    "VlAttributesTrainingBalanced, VlClassResultsTrainingBalanced = ncr.fit_resample(VlAttributesTraining, VlClassResultsTraining)\n",
    "\n",
    "smote = SMOTE(random_state=42)\n",
    "Cd4AttributesTrainingBalanced, Cd4ClassResultsTrainingBalanced = smote.fit_resample(Cd4AttributesTraining, Cd4ClassResultsTraining)\n",
    "VlAttributesTrainingBalanced, VlClassResultsTrainingBalanced = smote.fit_resample(VlAttributesTraining, VlClassResultsTraining)\n",
    "Cd4ClassResultsTrainingBalanced.value_counts()"
   ]
  },
  {
   "attachments": {},
   "cell_type": "markdown",
   "metadata": {},
   "source": [
    "***Save bases***"
   ]
  },
  {
   "cell_type": "code",
   "execution_count": 71,
   "metadata": {},
   "outputs": [],
   "source": [
    "with open('../DataBases/Cd4EncodedBase.pkl', 'wb') as f:\n",
    "    pickle.dump([dbCd4CoreAttributes.columns, Cd4AttributesTrainingBalanced, Cd4ClassResultsTrainingBalanced, Cd4AttributesTest, Cd4ClassResultsTest], f)\n",
    "with open('../DataBases/VlEncodedBase.pkl', 'wb') as f:\n",
    "    pickle.dump([dbVlCoreAttributes.columns, VlAttributesTrainingBalanced, VlClassResultsTrainingBalanced, Vl4AttributesTest, VlClassResultsTest], f)\n"
   ]
  }
 ],
 "metadata": {
  "kernelspec": {
   "display_name": "Python 3",
   "language": "python",
   "name": "python3"
  },
  "language_info": {
   "codemirror_mode": {
    "name": "ipython",
    "version": 3
   },
   "file_extension": ".py",
   "mimetype": "text/x-python",
   "name": "python",
   "nbconvert_exporter": "python",
   "pygments_lexer": "ipython3",
   "version": "3.10.6"
  },
  "orig_nbformat": 4,
  "vscode": {
   "interpreter": {
    "hash": "801167540cbb55ba35d945cc42145fb282b6ddc0e114fed7a26f8df16ed9f164"
   }
  }
 },
 "nbformat": 4,
 "nbformat_minor": 2
}
