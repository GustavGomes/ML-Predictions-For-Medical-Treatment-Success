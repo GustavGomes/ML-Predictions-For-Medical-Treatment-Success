{
 "cells": [
  {
   "attachments": {},
   "cell_type": "markdown",
   "metadata": {},
   "source": [
    "***Pré-Processamento***"
   ]
  },
  {
   "attachments": {},
   "cell_type": "markdown",
   "metadata": {},
   "source": [
    "***Imports***"
   ]
  },
  {
   "cell_type": "code",
   "execution_count": 21,
   "metadata": {},
   "outputs": [],
   "source": [
    "import pandas as pd\n",
    "import pickle\n",
    "from imblearn.over_sampling import SMOTE\n",
    "from imblearn.under_sampling import RandomUnderSampler"
   ]
  },
  {
   "attachments": {},
   "cell_type": "markdown",
   "metadata": {},
   "source": [
    "***Get File***"
   ]
  },
  {
   "cell_type": "code",
   "execution_count": 22,
   "metadata": {},
   "outputs": [],
   "source": [
    "dataFrame = pd.read_csv('../DataBases/CD4DB.csv', sep=';',index_col=None,decimal=',')"
   ]
  },
  {
   "attachments": {},
   "cell_type": "markdown",
   "metadata": {},
   "source": [
    "***Handle missing values***\n",
    "\n"
   ]
  },
  {
   "attachments": {},
   "cell_type": "markdown",
   "metadata": {},
   "source": [
    "***Get mean of ART_ADHER***"
   ]
  },
  {
   "cell_type": "code",
   "execution_count": 23,
   "metadata": {},
   "outputs": [],
   "source": [
    "adherenceMeanById = dataFrame.groupby('ID')['ART_ADHER'].mean()\n",
    "dataFrame['ART_ADHER'] = dataFrame['ID'].map(adherenceMeanById)"
   ]
  },
  {
   "attachments": {},
   "cell_type": "markdown",
   "metadata": {},
   "source": [
    "***Get last instance of each id***"
   ]
  },
  {
   "cell_type": "code",
   "execution_count": 24,
   "metadata": {},
   "outputs": [],
   "source": [
    "dbUniqueIds = dataFrame.sort_values('CD4_DT2').groupby('ID').last()"
   ]
  },
  {
   "attachments": {},
   "cell_type": "markdown",
   "metadata": {},
   "source": [
    "***Drop values with missing VL_STATUS for the VlPrediction***"
   ]
  },
  {
   "cell_type": "code",
   "execution_count": 25,
   "metadata": {},
   "outputs": [],
   "source": [
    "dbUniqueIdsForVl = dbUniqueIds.drop(dbUniqueIds[dbUniqueIds['VL_STATUS'] == 2].index)"
   ]
  },
  {
   "attachments": {},
   "cell_type": "markdown",
   "metadata": {},
   "source": [
    "***Isolate core attributes***\n"
   ]
  },
  {
   "cell_type": "code",
   "execution_count": 26,
   "metadata": {},
   "outputs": [],
   "source": [
    "dbCd4CoreAttributes = dbUniqueIds.loc[:, ['GENDER', 'AGE', 'CD4_BASE', 'VL_BASE', 'ART_ADHER', 'TP_FOLLOW']]\n",
    "dbCd4CoreAttributes.reset_index(drop=True, inplace=True)\n",
    "dbVlCoreAttributes = dbUniqueIdsForVl.loc[:, ['GENDER', 'AGE', 'CD4_BASE', 'VL_BASE', 'ART_ADHER', 'TP_FOLLOW']]\n",
    "dbVlCoreAttributes.reset_index(drop=True, inplace=True)"
   ]
  },
  {
   "attachments": {},
   "cell_type": "markdown",
   "metadata": {},
   "source": [
    "***Get attribute and class values***"
   ]
  },
  {
   "cell_type": "code",
   "execution_count": 27,
   "metadata": {},
   "outputs": [],
   "source": [
    "attributesCd4 = dbCd4CoreAttributes.values\n",
    "attributesVl = dbVlCoreAttributes.values\n",
    "Cd4StatusClassResults = dbUniqueIds['CD4_STATUS']\n",
    "VlStatusClassResults = dbUniqueIdsForVl['VL_STATUS']"
   ]
  },
  {
   "attachments": {},
   "cell_type": "markdown",
   "metadata": {},
   "source": [
    "***Using NCR + SMOTE to balance the classes and remove noisy***"
   ]
  },
  {
   "cell_type": "code",
   "execution_count": 87,
   "metadata": {},
   "outputs": [],
   "source": [
    "from imblearn.under_sampling import NeighbourhoodCleaningRule\n",
    "\n",
    "ncr = NeighbourhoodCleaningRule()\n",
    "attributesCd4Balanced, Cd4StatusClassResultsBalanced = ncr.fit_resample(attributesCd4, Cd4StatusClassResults)\n",
    "attributesVlBalanced, VlStatusClassResultsBalanced = ncr.fit_resample(attributesVl, VlStatusClassResults)\n",
    "\n",
    "smote = SMOTE()\n",
    "attributesCd4Balanced, Cd4StatusClassResultsBalanced = smote.fit_resample(attributesCd4Balanced, Cd4StatusClassResultsBalanced)\n",
    "attributesVlBalanced, VlStatusClassResultsBalanced = smote.fit_resample(attributesVlBalanced, VlStatusClassResultsBalanced)"
   ]
  },
  {
   "attachments": {},
   "cell_type": "markdown",
   "metadata": {},
   "source": [
    "***Save bases***"
   ]
  },
  {
   "cell_type": "code",
   "execution_count": 88,
   "metadata": {},
   "outputs": [
    {
     "data": {
      "text/plain": [
       "0    3336\n",
       "1    3336\n",
       "Name: CD4_STATUS, dtype: int64"
      ]
     },
     "execution_count": 88,
     "metadata": {},
     "output_type": "execute_result"
    }
   ],
   "source": [
    "with open('../DataBases/Cd4EncodedBase.pkl', 'wb') as f:\n",
    "    pickle.dump([dbCd4CoreAttributes.columns, attributesCd4, Cd4StatusClassResults], f)\n",
    "with open('../DataBases/VlEncodedBase.pkl', 'wb') as f:\n",
    "    pickle.dump([dbVlCoreAttributes.columns, attributesVl, VlStatusClassResults], f)\n",
    "with open('../DataBases/Cd4EncodedBaseBalanced.pkl', 'wb') as f:\n",
    "    pickle.dump([dbCd4CoreAttributes.columns, attributesCd4Balanced, Cd4StatusClassResultsBalanced], f)\n",
    "with open('../DataBases/VlEncodedBaseBalanced.pkl', 'wb') as f:\n",
    "    pickle.dump([dbVlCoreAttributes.columns, attributesVlBalanced, VlStatusClassResultsBalanced], f)\n",
    "Cd4StatusClassResultsBalanced.value_counts()"
   ]
  }
 ],
 "metadata": {
  "kernelspec": {
   "display_name": "Python 3",
   "language": "python",
   "name": "python3"
  },
  "language_info": {
   "codemirror_mode": {
    "name": "ipython",
    "version": 3
   },
   "file_extension": ".py",
   "mimetype": "text/x-python",
   "name": "python",
   "nbconvert_exporter": "python",
   "pygments_lexer": "ipython3",
   "version": "3.11.2"
  },
  "orig_nbformat": 4,
  "vscode": {
   "interpreter": {
    "hash": "801167540cbb55ba35d945cc42145fb282b6ddc0e114fed7a26f8df16ed9f164"
   }
  }
 },
 "nbformat": 4,
 "nbformat_minor": 2
}
